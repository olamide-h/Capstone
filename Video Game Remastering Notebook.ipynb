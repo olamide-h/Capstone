{
 "cells": [
  {
   "cell_type": "markdown",
   "metadata": {},
   "source": [
    "# Video Game Remastering Classifier\n",
    "\n",
    "![image info](https://i.rtings.com/assets/pages/BZfoW14G/best-4k-gaming-tv-medium.jpg)\n",
    "\n",
    "## Business Problem:\n",
    "\n",
    "**Stakeholder**: Bluepoint Games The Gaming industry is a huge indutry with it's marjet sizd currently valued at $86 Billion in just the alone. This consits of the several gaming platforms and consoles accesible today. Platforms/Consoles such as the Playstation( PS5 latest model), Xbox One(latest model) or the Nintendo Switch as well as PC games. All coming from their respective publishing companies such as Sony, Microsoft, Nintendo and so on. As the industry continues to grow and technology evloves, new systems tend to be developed, with better graphics, better frame rates and more ineratice capabilities for the users. While ew games tend to be developed, many users tend to desire playing the games they enjoyed growing up that may be from older systems or froma time when technology was limited. Where the graphics were limited and maybe not in 4k resoluton as many games are now. Thus introducing remastering and remaking these games.\n",
    "\n",
    "With a remaster, these game companies can rerelase old cult classic games with improvements to the hardware for uodated gaming. In addition games can also be remade. Taking these old games, and a process of shot-by-shot recreating it. So now the question becomes what games should be remastered. The Stakeholder : Bluepoint Games. Ive been tasked with buidling machine learing model and predicting which old games should be remastered or remade for this new age of gamers.\n"
   ]
  },
  {
   "cell_type": "markdown",
   "metadata": {},
   "source": [
    "# Data Preparaton"
   ]
  },
  {
   "cell_type": "code",
   "execution_count": 1,
   "metadata": {},
   "outputs": [],
   "source": [
    "# importing libraries\n",
    "import pandas as pd\n",
    "import numpy as np\n",
    "import matplotlib.pyplot as plt\n",
    "import seaborn as sns\n",
    "%matplotlib inline\n",
    "from sklearn.impute import SimpleImputer\n",
    "\n",
    "from mpl_toolkits.mplot3d import Axes3D\n",
    "from sklearn.preprocessing import StandardScaler\n",
    "import matplotlib.pyplot as plt # plotting\n",
    "import numpy as np # linear algebra\n",
    "import os # accessing directory structure\n",
    "import pandas as pd # data processing, CSV file I/O (e.g. pd.read_csv)\n",
    "\n",
    "from sklearn.preprocessing import PolynomialFeatures, StandardScaler, MinMaxScaler, OneHotEncoder\n",
    "from sklearn.model_selection import train_test_split, GridSearchCV, cross_val_score\n",
    "from sklearn.neighbors import KNeighborsClassifier, KNeighborsRegressor, NearestNeighbors\n",
    "from sklearn.tree import DecisionTreeClassifier, DecisionTreeRegressor, plot_tree\n",
    "from sklearn.dummy import DummyClassifier\n",
    "from sklearn.metrics import accuracy_score, make_scorer, recall_score, plot_roc_curve, classification_report, plot_confusion_matrix, confusion_matrix\n",
    "from sklearn.naive_bayes import MultinomialNB, GaussianNB, BernoulliNB\n",
    "from sklearn.ensemble import BaggingClassifier, RandomForestClassifier, VotingClassifier, AdaBoostClassifier, GradientBoostingClassifier\n",
    "from xgboost import XGBClassifier \n",
    "from imblearn.over_sampling import SMOTE\n",
    "from imblearn.under_sampling import RandomUnderSampler\n",
    "from imblearn.pipeline import Pipeline as imbPipeline\n",
    "from statsmodels.api import qqplot\n",
    "from scipy import stats\n",
    "from sklearn.metrics import confusion_matrix, plot_confusion_matrix,\\\n",
    "    precision_score, recall_score, accuracy_score, f1_score, log_loss,\\\n",
    "    roc_curve, roc_auc_score, classification_report\n",
    "from sklearn.linear_model import LinearRegression, LogisticRegression"
   ]
  },
  {
   "cell_type": "code",
   "execution_count": 2,
   "metadata": {},
   "outputs": [
    {
     "data": {
      "text/html": [
       "<div>\n",
       "<style scoped>\n",
       "    .dataframe tbody tr th:only-of-type {\n",
       "        vertical-align: middle;\n",
       "    }\n",
       "\n",
       "    .dataframe tbody tr th {\n",
       "        vertical-align: top;\n",
       "    }\n",
       "\n",
       "    .dataframe thead th {\n",
       "        text-align: right;\n",
       "    }\n",
       "</style>\n",
       "<table border=\"1\" class=\"dataframe\">\n",
       "  <thead>\n",
       "    <tr style=\"text-align: right;\">\n",
       "      <th></th>\n",
       "      <th>Name</th>\n",
       "      <th>Platform</th>\n",
       "      <th>Year_of_Release</th>\n",
       "      <th>Genre</th>\n",
       "      <th>Publisher</th>\n",
       "      <th>NA_Sales</th>\n",
       "      <th>EU_Sales</th>\n",
       "      <th>JP_Sales</th>\n",
       "      <th>Other_Sales</th>\n",
       "      <th>Global_Sales</th>\n",
       "      <th>Critic_Score</th>\n",
       "      <th>Critic_Count</th>\n",
       "      <th>User_Score</th>\n",
       "      <th>User_Count</th>\n",
       "      <th>Developer</th>\n",
       "      <th>Rating</th>\n",
       "    </tr>\n",
       "  </thead>\n",
       "  <tbody>\n",
       "    <tr>\n",
       "      <th>0</th>\n",
       "      <td>Wii Sports</td>\n",
       "      <td>Wii</td>\n",
       "      <td>2006.0</td>\n",
       "      <td>Sports</td>\n",
       "      <td>Nintendo</td>\n",
       "      <td>41.36</td>\n",
       "      <td>28.96</td>\n",
       "      <td>3.77</td>\n",
       "      <td>8.45</td>\n",
       "      <td>82.53</td>\n",
       "      <td>76.0</td>\n",
       "      <td>51.0</td>\n",
       "      <td>8</td>\n",
       "      <td>322.0</td>\n",
       "      <td>Nintendo</td>\n",
       "      <td>E</td>\n",
       "    </tr>\n",
       "    <tr>\n",
       "      <th>1</th>\n",
       "      <td>Super Mario Bros.</td>\n",
       "      <td>NES</td>\n",
       "      <td>1985.0</td>\n",
       "      <td>Platform</td>\n",
       "      <td>Nintendo</td>\n",
       "      <td>29.08</td>\n",
       "      <td>3.58</td>\n",
       "      <td>6.81</td>\n",
       "      <td>0.77</td>\n",
       "      <td>40.24</td>\n",
       "      <td>NaN</td>\n",
       "      <td>NaN</td>\n",
       "      <td>NaN</td>\n",
       "      <td>NaN</td>\n",
       "      <td>NaN</td>\n",
       "      <td>NaN</td>\n",
       "    </tr>\n",
       "    <tr>\n",
       "      <th>2</th>\n",
       "      <td>Mario Kart Wii</td>\n",
       "      <td>Wii</td>\n",
       "      <td>2008.0</td>\n",
       "      <td>Racing</td>\n",
       "      <td>Nintendo</td>\n",
       "      <td>15.68</td>\n",
       "      <td>12.76</td>\n",
       "      <td>3.79</td>\n",
       "      <td>3.29</td>\n",
       "      <td>35.52</td>\n",
       "      <td>82.0</td>\n",
       "      <td>73.0</td>\n",
       "      <td>8.3</td>\n",
       "      <td>709.0</td>\n",
       "      <td>Nintendo</td>\n",
       "      <td>E</td>\n",
       "    </tr>\n",
       "    <tr>\n",
       "      <th>3</th>\n",
       "      <td>Wii Sports Resort</td>\n",
       "      <td>Wii</td>\n",
       "      <td>2009.0</td>\n",
       "      <td>Sports</td>\n",
       "      <td>Nintendo</td>\n",
       "      <td>15.61</td>\n",
       "      <td>10.93</td>\n",
       "      <td>3.28</td>\n",
       "      <td>2.95</td>\n",
       "      <td>32.77</td>\n",
       "      <td>80.0</td>\n",
       "      <td>73.0</td>\n",
       "      <td>8</td>\n",
       "      <td>192.0</td>\n",
       "      <td>Nintendo</td>\n",
       "      <td>E</td>\n",
       "    </tr>\n",
       "    <tr>\n",
       "      <th>4</th>\n",
       "      <td>Pokemon Red/Pokemon Blue</td>\n",
       "      <td>GB</td>\n",
       "      <td>1996.0</td>\n",
       "      <td>Role-Playing</td>\n",
       "      <td>Nintendo</td>\n",
       "      <td>11.27</td>\n",
       "      <td>8.89</td>\n",
       "      <td>10.22</td>\n",
       "      <td>1.00</td>\n",
       "      <td>31.37</td>\n",
       "      <td>NaN</td>\n",
       "      <td>NaN</td>\n",
       "      <td>NaN</td>\n",
       "      <td>NaN</td>\n",
       "      <td>NaN</td>\n",
       "      <td>NaN</td>\n",
       "    </tr>\n",
       "  </tbody>\n",
       "</table>\n",
       "</div>"
      ],
      "text/plain": [
       "                       Name Platform  Year_of_Release         Genre Publisher  \\\n",
       "0                Wii Sports      Wii           2006.0        Sports  Nintendo   \n",
       "1         Super Mario Bros.      NES           1985.0      Platform  Nintendo   \n",
       "2            Mario Kart Wii      Wii           2008.0        Racing  Nintendo   \n",
       "3         Wii Sports Resort      Wii           2009.0        Sports  Nintendo   \n",
       "4  Pokemon Red/Pokemon Blue       GB           1996.0  Role-Playing  Nintendo   \n",
       "\n",
       "   NA_Sales  EU_Sales  JP_Sales  Other_Sales  Global_Sales  Critic_Score  \\\n",
       "0     41.36     28.96      3.77         8.45         82.53          76.0   \n",
       "1     29.08      3.58      6.81         0.77         40.24           NaN   \n",
       "2     15.68     12.76      3.79         3.29         35.52          82.0   \n",
       "3     15.61     10.93      3.28         2.95         32.77          80.0   \n",
       "4     11.27      8.89     10.22         1.00         31.37           NaN   \n",
       "\n",
       "   Critic_Count User_Score  User_Count Developer Rating  \n",
       "0          51.0          8       322.0  Nintendo      E  \n",
       "1           NaN        NaN         NaN       NaN    NaN  \n",
       "2          73.0        8.3       709.0  Nintendo      E  \n",
       "3          73.0          8       192.0  Nintendo      E  \n",
       "4           NaN        NaN         NaN       NaN    NaN  "
      ]
     },
     "execution_count": 2,
     "metadata": {},
     "output_type": "execute_result"
    }
   ],
   "source": [
    "# loading in and exploring dataset\n",
    "# Read in csv file and preview DataFrame\n",
    "df = pd.read_csv('Data/Video_Games.csv')\n",
    "df.head()"
   ]
  },
  {
   "cell_type": "code",
   "execution_count": 3,
   "metadata": {},
   "outputs": [
    {
     "name": "stdout",
     "output_type": "stream",
     "text": [
      "<class 'pandas.core.frame.DataFrame'>\n",
      "RangeIndex: 16719 entries, 0 to 16718\n",
      "Data columns (total 16 columns):\n",
      " #   Column           Non-Null Count  Dtype  \n",
      "---  ------           --------------  -----  \n",
      " 0   Name             16717 non-null  object \n",
      " 1   Platform         16719 non-null  object \n",
      " 2   Year_of_Release  16450 non-null  float64\n",
      " 3   Genre            16717 non-null  object \n",
      " 4   Publisher        16665 non-null  object \n",
      " 5   NA_Sales         16719 non-null  float64\n",
      " 6   EU_Sales         16719 non-null  float64\n",
      " 7   JP_Sales         16719 non-null  float64\n",
      " 8   Other_Sales      16719 non-null  float64\n",
      " 9   Global_Sales     16719 non-null  float64\n",
      " 10  Critic_Score     8137 non-null   float64\n",
      " 11  Critic_Count     8137 non-null   float64\n",
      " 12  User_Score       10015 non-null  object \n",
      " 13  User_Count       7590 non-null   float64\n",
      " 14  Developer        10096 non-null  object \n",
      " 15  Rating           9950 non-null   object \n",
      "dtypes: float64(9), object(7)\n",
      "memory usage: 2.0+ MB\n"
     ]
    }
   ],
   "source": [
    "df.info()"
   ]
  },
  {
   "cell_type": "markdown",
   "metadata": {},
   "source": [
    "- Global Sales is a total of NA, EU and Jp Sales columns.\n",
    "\n",
    "- Can see there are alot of missing values. Especially in User Score and User count. Critic Score and Critic count.\n",
    "\n",
    "- Missing Values in Developer & Ratings column.\n",
    " \n",
    "- Rating  and Developer can be dropped. No relevance to business problem. Alot of null values."
   ]
  },
  {
   "cell_type": "markdown",
   "metadata": {},
   "source": [
    "Next lets look at the distribution of some of the columns"
   ]
  },
  {
   "cell_type": "code",
   "execution_count": 4,
   "metadata": {},
   "outputs": [],
   "source": [
    "# Distribution graphs (histogram/bar graph) of column data\n",
    "def plotPerColumnDistribution(df, nGraphShown, nGraphPerRow):\n",
    "    nunique = df.nunique()\n",
    "    df = df[[col for col in df if nunique[col] > 1 and nunique[col] < 50]] # For displaying purposes, pick columns that have between 1 and 50 unique values\n",
    "    nRow, nCol = df.shape\n",
    "    columnNames = list(df)\n",
    "    nGraphRow = (nCol + nGraphPerRow - 1) / nGraphPerRow\n",
    "    plt.figure(num = None, figsize = (6 * nGraphPerRow, 8 * nGraphRow), dpi = 80, facecolor = 'w', edgecolor = 'k')\n",
    "    for i in range(min(nCol, nGraphShown)):\n",
    "        plt.subplot(nGraphRow, nGraphPerRow, i + 1)\n",
    "        columnDf = df.iloc[:, i]\n",
    "        if (not np.issubdtype(type(columnDf.iloc[0]), np.number)):\n",
    "            valueCounts = columnDf.value_counts()\n",
    "            valueCounts.plot.bar()\n",
    "        else:\n",
    "            columnDf.hist()\n",
    "        plt.ylabel('Distribution')\n",
    "        plt.xticks(rotation = 90)\n",
    "        plt.title(f'{columnNames[i]} (column {i})')\n",
    "    plt.tight_layout(pad = 1.0, w_pad = 1.0, h_pad = 1.0)\n",
    "    plt.show()"
   ]
  },
  {
   "cell_type": "code",
   "execution_count": 5,
   "metadata": {},
   "outputs": [
    {
     "name": "stderr",
     "output_type": "stream",
     "text": [
      "<ipython-input-4-da6f0d32d362>:10: MatplotlibDeprecationWarning: Passing non-integers as three-element position specification is deprecated since 3.3 and will be removed two minor releases later.\n",
      "  plt.subplot(nGraphRow, nGraphPerRow, i + 1)\n",
      "<ipython-input-4-da6f0d32d362>:10: MatplotlibDeprecationWarning: Passing non-integers as three-element position specification is deprecated since 3.3 and will be removed two minor releases later.\n",
      "  plt.subplot(nGraphRow, nGraphPerRow, i + 1)\n",
      "<ipython-input-4-da6f0d32d362>:10: MatplotlibDeprecationWarning: Passing non-integers as three-element position specification is deprecated since 3.3 and will be removed two minor releases later.\n",
      "  plt.subplot(nGraphRow, nGraphPerRow, i + 1)\n"
     ]
    },
    {
     "data": {
      "image/png": "[encoded data removed]",
      "text/plain": [
       "<Figure size 1440x1280 with 4 Axes>"
      ]
     },
     "metadata": {},
     "output_type": "display_data"
    }
   ],
   "source": [
    "plotPerColumnDistribution(df, 25, 3)"
   ]
  },
  {
   "cell_type": "code",
   "execution_count": 6,
   "metadata": {},
   "outputs": [
    {
     "data": {
      "text/plain": [
       "Ubisoft                     204\n",
       "EA Sports                   172\n",
       "EA Canada                   167\n",
       "Konami                      162\n",
       "Capcom                      139\n",
       "                           ... \n",
       "Mere Mortals                  1\n",
       "Sun-Tec                       1\n",
       "InterActive Vision Games      1\n",
       "Delta Factory                 1\n",
       "Vogster                       1\n",
       "Name: Developer, Length: 1696, dtype: int64"
      ]
     },
     "execution_count": 6,
     "metadata": {},
     "output_type": "execute_result"
    }
   ],
   "source": [
    "df['Developer'].value_counts()"
   ]
  },
  {
   "cell_type": "code",
   "execution_count": 7,
   "metadata": {},
   "outputs": [
    {
     "data": {
      "text/html": [
       "<div>\n",
       "<style scoped>\n",
       "    .dataframe tbody tr th:only-of-type {\n",
       "        vertical-align: middle;\n",
       "    }\n",
       "\n",
       "    .dataframe tbody tr th {\n",
       "        vertical-align: top;\n",
       "    }\n",
       "\n",
       "    .dataframe thead th {\n",
       "        text-align: right;\n",
       "    }\n",
       "</style>\n",
       "<table border=\"1\" class=\"dataframe\">\n",
       "  <thead>\n",
       "    <tr style=\"text-align: right;\">\n",
       "      <th></th>\n",
       "      <th>Year_of_Release</th>\n",
       "      <th>NA_Sales</th>\n",
       "      <th>EU_Sales</th>\n",
       "      <th>JP_Sales</th>\n",
       "      <th>Other_Sales</th>\n",
       "      <th>Global_Sales</th>\n",
       "      <th>Critic_Score</th>\n",
       "      <th>Critic_Count</th>\n",
       "      <th>User_Count</th>\n",
       "    </tr>\n",
       "  </thead>\n",
       "  <tbody>\n",
       "    <tr>\n",
       "      <th>count</th>\n",
       "      <td>16450.000000</td>\n",
       "      <td>16719.000000</td>\n",
       "      <td>16719.000000</td>\n",
       "      <td>16719.000000</td>\n",
       "      <td>16719.000000</td>\n",
       "      <td>16719.000000</td>\n",
       "      <td>8137.000000</td>\n",
       "      <td>8137.000000</td>\n",
       "      <td>7590.000000</td>\n",
       "    </tr>\n",
       "    <tr>\n",
       "      <th>mean</th>\n",
       "      <td>2006.487356</td>\n",
       "      <td>0.263330</td>\n",
       "      <td>0.145025</td>\n",
       "      <td>0.077602</td>\n",
       "      <td>0.047332</td>\n",
       "      <td>0.533543</td>\n",
       "      <td>68.967679</td>\n",
       "      <td>26.360821</td>\n",
       "      <td>162.229908</td>\n",
       "    </tr>\n",
       "    <tr>\n",
       "      <th>std</th>\n",
       "      <td>5.878995</td>\n",
       "      <td>0.813514</td>\n",
       "      <td>0.503283</td>\n",
       "      <td>0.308818</td>\n",
       "      <td>0.186710</td>\n",
       "      <td>1.547935</td>\n",
       "      <td>13.938165</td>\n",
       "      <td>18.980495</td>\n",
       "      <td>561.282326</td>\n",
       "    </tr>\n",
       "    <tr>\n",
       "      <th>min</th>\n",
       "      <td>1980.000000</td>\n",
       "      <td>0.000000</td>\n",
       "      <td>0.000000</td>\n",
       "      <td>0.000000</td>\n",
       "      <td>0.000000</td>\n",
       "      <td>0.010000</td>\n",
       "      <td>13.000000</td>\n",
       "      <td>3.000000</td>\n",
       "      <td>4.000000</td>\n",
       "    </tr>\n",
       "    <tr>\n",
       "      <th>25%</th>\n",
       "      <td>2003.000000</td>\n",
       "      <td>0.000000</td>\n",
       "      <td>0.000000</td>\n",
       "      <td>0.000000</td>\n",
       "      <td>0.000000</td>\n",
       "      <td>0.060000</td>\n",
       "      <td>60.000000</td>\n",
       "      <td>12.000000</td>\n",
       "      <td>10.000000</td>\n",
       "    </tr>\n",
       "    <tr>\n",
       "      <th>50%</th>\n",
       "      <td>2007.000000</td>\n",
       "      <td>0.080000</td>\n",
       "      <td>0.020000</td>\n",
       "      <td>0.000000</td>\n",
       "      <td>0.010000</td>\n",
       "      <td>0.170000</td>\n",
       "      <td>71.000000</td>\n",
       "      <td>21.000000</td>\n",
       "      <td>24.000000</td>\n",
       "    </tr>\n",
       "    <tr>\n",
       "      <th>75%</th>\n",
       "      <td>2010.000000</td>\n",
       "      <td>0.240000</td>\n",
       "      <td>0.110000</td>\n",
       "      <td>0.040000</td>\n",
       "      <td>0.030000</td>\n",
       "      <td>0.470000</td>\n",
       "      <td>79.000000</td>\n",
       "      <td>36.000000</td>\n",
       "      <td>81.000000</td>\n",
       "    </tr>\n",
       "    <tr>\n",
       "      <th>max</th>\n",
       "      <td>2020.000000</td>\n",
       "      <td>41.360000</td>\n",
       "      <td>28.960000</td>\n",
       "      <td>10.220000</td>\n",
       "      <td>10.570000</td>\n",
       "      <td>82.530000</td>\n",
       "      <td>98.000000</td>\n",
       "      <td>113.000000</td>\n",
       "      <td>10665.000000</td>\n",
       "    </tr>\n",
       "  </tbody>\n",
       "</table>\n",
       "</div>"
      ],
      "text/plain": [
       "       Year_of_Release      NA_Sales      EU_Sales      JP_Sales  \\\n",
       "count     16450.000000  16719.000000  16719.000000  16719.000000   \n",
       "mean       2006.487356      0.263330      0.145025      0.077602   \n",
       "std           5.878995      0.813514      0.503283      0.308818   \n",
       "min        1980.000000      0.000000      0.000000      0.000000   \n",
       "25%        2003.000000      0.000000      0.000000      0.000000   \n",
       "50%        2007.000000      0.080000      0.020000      0.000000   \n",
       "75%        2010.000000      0.240000      0.110000      0.040000   \n",
       "max        2020.000000     41.360000     28.960000     10.220000   \n",
       "\n",
       "        Other_Sales  Global_Sales  Critic_Score  Critic_Count    User_Count  \n",
       "count  16719.000000  16719.000000   8137.000000   8137.000000   7590.000000  \n",
       "mean       0.047332      0.533543     68.967679     26.360821    162.229908  \n",
       "std        0.186710      1.547935     13.938165     18.980495    561.282326  \n",
       "min        0.000000      0.010000     13.000000      3.000000      4.000000  \n",
       "25%        0.000000      0.060000     60.000000     12.000000     10.000000  \n",
       "50%        0.010000      0.170000     71.000000     21.000000     24.000000  \n",
       "75%        0.030000      0.470000     79.000000     36.000000     81.000000  \n",
       "max       10.570000     82.530000     98.000000    113.000000  10665.000000  "
      ]
     },
     "execution_count": 7,
     "metadata": {},
     "output_type": "execute_result"
    }
   ],
   "source": [
    "df.describe()"
   ]
  },
  {
   "cell_type": "code",
   "execution_count": 8,
   "metadata": {
    "scrolled": true
   },
   "outputs": [
    {
     "name": "stdout",
     "output_type": "stream",
     "text": [
      "['2600', '3DO', '3DS', 'DC', 'DS', 'GB', 'GBA', 'GC', 'GEN', 'GG', 'N64', 'NES', 'NG', 'PC', 'PCFX', 'PS', 'PS2', 'PS3', 'PS4', 'PSP', 'PSV', 'SAT', 'SCD', 'SNES', 'TG16', 'WS', 'Wii', 'WiiU', 'X360', 'XB', 'XOne']\n"
     ]
    }
   ],
   "source": [
    "systems = df['Platform'].unique()\n",
    "print(sorted(systems))\n",
    "# 31 different game systems "
   ]
  },
  {
   "cell_type": "code",
   "execution_count": 9,
   "metadata": {},
   "outputs": [
    {
     "name": "stdout",
     "output_type": "stream",
     "text": [
      "1980.0\n",
      "2020.0\n"
     ]
    }
   ],
   "source": [
    "print(df['Year_of_Release'].min())\n",
    "print(df['Year_of_Release'].max())"
   ]
  },
  {
   "cell_type": "code",
   "execution_count": 10,
   "metadata": {},
   "outputs": [
    {
     "name": "stdout",
     "output_type": "stream",
     "text": [
      "13.0\n",
      "98.0\n"
     ]
    }
   ],
   "source": [
    "print(df['Critic_Score'].min())\n",
    "print(df['Critic_Score'].max())"
   ]
  },
  {
   "cell_type": "markdown",
   "metadata": {},
   "source": [
    "# Data Cleaning "
   ]
  },
  {
   "cell_type": "code",
   "execution_count": 11,
   "metadata": {
    "scrolled": false
   },
   "outputs": [
    {
     "name": "stdout",
     "output_type": "stream",
     "text": [
      "<class 'pandas.core.frame.DataFrame'>\n",
      "RangeIndex: 16719 entries, 0 to 16718\n",
      "Data columns (total 16 columns):\n",
      " #   Column           Non-Null Count  Dtype  \n",
      "---  ------           --------------  -----  \n",
      " 0   Name             16717 non-null  object \n",
      " 1   Platform         16719 non-null  object \n",
      " 2   Year_of_Release  16450 non-null  float64\n",
      " 3   Genre            16717 non-null  object \n",
      " 4   Publisher        16665 non-null  object \n",
      " 5   NA_Sales         16719 non-null  float64\n",
      " 6   EU_Sales         16719 non-null  float64\n",
      " 7   JP_Sales         16719 non-null  float64\n",
      " 8   Other_Sales      16719 non-null  float64\n",
      " 9   Global_Sales     16719 non-null  float64\n",
      " 10  Critic_Score     8137 non-null   float64\n",
      " 11  Critic_Count     8137 non-null   float64\n",
      " 12  User_Score       10015 non-null  object \n",
      " 13  User_Count       7590 non-null   float64\n",
      " 14  Developer        10096 non-null  object \n",
      " 15  Rating           9950 non-null   object \n",
      "dtypes: float64(9), object(7)\n",
      "memory usage: 2.0+ MB\n"
     ]
    }
   ],
   "source": [
    "df.info()"
   ]
  },
  {
   "cell_type": "markdown",
   "metadata": {},
   "source": [
    "Next I drop Null values within the column  of Year of Release, Name, and Publisher"
   ]
  },
  {
   "cell_type": "code",
   "execution_count": 12,
   "metadata": {},
   "outputs": [],
   "source": [
    "df.drop(df[df.Year_of_Release.isnull()].index, inplace = True) #remove null value in Year of release column\n",
    "df.drop(df[df.Name.isnull()].index, inplace = True) #remove null value in Name column\n",
    "df.drop(df[df.Publisher.isnull()].index, inplace = True) #remove null value in Publisher column"
   ]
  },
  {
   "cell_type": "code",
   "execution_count": 13,
   "metadata": {
    "scrolled": true
   },
   "outputs": [
    {
     "name": "stdout",
     "output_type": "stream",
     "text": [
      "<class 'pandas.core.frame.DataFrame'>\n",
      "Int64Index: 16416 entries, 0 to 16718\n",
      "Data columns (total 16 columns):\n",
      " #   Column           Non-Null Count  Dtype  \n",
      "---  ------           --------------  -----  \n",
      " 0   Name             16416 non-null  object \n",
      " 1   Platform         16416 non-null  object \n",
      " 2   Year_of_Release  16416 non-null  float64\n",
      " 3   Genre            16416 non-null  object \n",
      " 4   Publisher        16416 non-null  object \n",
      " 5   NA_Sales         16416 non-null  float64\n",
      " 6   EU_Sales         16416 non-null  float64\n",
      " 7   JP_Sales         16416 non-null  float64\n",
      " 8   Other_Sales      16416 non-null  float64\n",
      " 9   Global_Sales     16416 non-null  float64\n",
      " 10  Critic_Score     7982 non-null   float64\n",
      " 11  Critic_Count     7982 non-null   float64\n",
      " 12  User_Score       9837 non-null   object \n",
      " 13  User_Count       7461 non-null   float64\n",
      " 14  Developer        9904 non-null   object \n",
      " 15  Rating           9767 non-null   object \n",
      "dtypes: float64(9), object(7)\n",
      "memory usage: 2.1+ MB\n"
     ]
    }
   ],
   "source": [
    "df.info()"
   ]
  },
  {
   "cell_type": "markdown",
   "metadata": {},
   "source": [
    "- Dropping developerand dropping rating  column due to its non relevance in the business problem"
   ]
  },
  {
   "cell_type": "code",
   "execution_count": 14,
   "metadata": {},
   "outputs": [],
   "source": [
    "df = df.drop('Rating', 1)"
   ]
  },
  {
   "cell_type": "code",
   "execution_count": 15,
   "metadata": {},
   "outputs": [],
   "source": [
    "df = df.drop('Developer', 1)"
   ]
  },
  {
   "cell_type": "code",
   "execution_count": 16,
   "metadata": {
    "scrolled": true
   },
   "outputs": [
    {
     "name": "stdout",
     "output_type": "stream",
     "text": [
      "<class 'pandas.core.frame.DataFrame'>\n",
      "Int64Index: 16416 entries, 0 to 16718\n",
      "Data columns (total 14 columns):\n",
      " #   Column           Non-Null Count  Dtype  \n",
      "---  ------           --------------  -----  \n",
      " 0   Name             16416 non-null  object \n",
      " 1   Platform         16416 non-null  object \n",
      " 2   Year_of_Release  16416 non-null  float64\n",
      " 3   Genre            16416 non-null  object \n",
      " 4   Publisher        16416 non-null  object \n",
      " 5   NA_Sales         16416 non-null  float64\n",
      " 6   EU_Sales         16416 non-null  float64\n",
      " 7   JP_Sales         16416 non-null  float64\n",
      " 8   Other_Sales      16416 non-null  float64\n",
      " 9   Global_Sales     16416 non-null  float64\n",
      " 10  Critic_Score     7982 non-null   float64\n",
      " 11  Critic_Count     7982 non-null   float64\n",
      " 12  User_Score       9837 non-null   object \n",
      " 13  User_Count       7461 non-null   float64\n",
      "dtypes: float64(9), object(5)\n",
      "memory usage: 1.9+ MB\n"
     ]
    }
   ],
   "source": [
    "df.info()"
   ]
  },
  {
   "cell_type": "markdown",
   "metadata": {},
   "source": [
    "Converting user_score fron an object to an integer so that it can be filled with the median. This will address our issue of games not having an user score. I do not want to drop all the nulls since that removes are large amout of games in the dataset."
   ]
  },
  {
   "cell_type": "code",
   "execution_count": 17,
   "metadata": {},
   "outputs": [],
   "source": [
    "#convert User_score from object to integer\n",
    "df.User_Score = pd.to_numeric(df.User_Score, errors='coerce')"
   ]
  },
  {
   "cell_type": "code",
   "execution_count": 18,
   "metadata": {},
   "outputs": [
    {
     "name": "stdout",
     "output_type": "stream",
     "text": [
      "0.0\n",
      "9.7\n"
     ]
    }
   ],
   "source": [
    "print(df['User_Score'].min())\n",
    "print(df['User_Score'].max())"
   ]
  },
  {
   "cell_type": "markdown",
   "metadata": {},
   "source": [
    "- User Score is on a scle of 0 - 10 \n",
    "\n",
    "- Critic score is one. scale of 0 - 100\n",
    "- Next I convert critic score to the same scale of user scores for more uniformity. "
   ]
  },
  {
   "cell_type": "code",
   "execution_count": 19,
   "metadata": {},
   "outputs": [],
   "source": [
    "#scale down critic score to user score\n",
    "df['Critic_Score'] = df['Critic_Score'] / 10"
   ]
  },
  {
   "cell_type": "code",
   "execution_count": 20,
   "metadata": {},
   "outputs": [
    {
     "data": {
      "text/html": [
       "<div>\n",
       "<style scoped>\n",
       "    .dataframe tbody tr th:only-of-type {\n",
       "        vertical-align: middle;\n",
       "    }\n",
       "\n",
       "    .dataframe tbody tr th {\n",
       "        vertical-align: top;\n",
       "    }\n",
       "\n",
       "    .dataframe thead th {\n",
       "        text-align: right;\n",
       "    }\n",
       "</style>\n",
       "<table border=\"1\" class=\"dataframe\">\n",
       "  <thead>\n",
       "    <tr style=\"text-align: right;\">\n",
       "      <th></th>\n",
       "      <th>Name</th>\n",
       "      <th>Platform</th>\n",
       "      <th>Year_of_Release</th>\n",
       "      <th>Genre</th>\n",
       "      <th>Publisher</th>\n",
       "      <th>NA_Sales</th>\n",
       "      <th>EU_Sales</th>\n",
       "      <th>JP_Sales</th>\n",
       "      <th>Other_Sales</th>\n",
       "      <th>Global_Sales</th>\n",
       "      <th>Critic_Score</th>\n",
       "      <th>Critic_Count</th>\n",
       "      <th>User_Score</th>\n",
       "      <th>User_Count</th>\n",
       "    </tr>\n",
       "  </thead>\n",
       "  <tbody>\n",
       "    <tr>\n",
       "      <th>0</th>\n",
       "      <td>Wii Sports</td>\n",
       "      <td>Wii</td>\n",
       "      <td>2006.0</td>\n",
       "      <td>Sports</td>\n",
       "      <td>Nintendo</td>\n",
       "      <td>41.36</td>\n",
       "      <td>28.96</td>\n",
       "      <td>3.77</td>\n",
       "      <td>8.45</td>\n",
       "      <td>82.53</td>\n",
       "      <td>7.6</td>\n",
       "      <td>51.0</td>\n",
       "      <td>8.0</td>\n",
       "      <td>322.0</td>\n",
       "    </tr>\n",
       "    <tr>\n",
       "      <th>1</th>\n",
       "      <td>Super Mario Bros.</td>\n",
       "      <td>NES</td>\n",
       "      <td>1985.0</td>\n",
       "      <td>Platform</td>\n",
       "      <td>Nintendo</td>\n",
       "      <td>29.08</td>\n",
       "      <td>3.58</td>\n",
       "      <td>6.81</td>\n",
       "      <td>0.77</td>\n",
       "      <td>40.24</td>\n",
       "      <td>NaN</td>\n",
       "      <td>NaN</td>\n",
       "      <td>NaN</td>\n",
       "      <td>NaN</td>\n",
       "    </tr>\n",
       "    <tr>\n",
       "      <th>2</th>\n",
       "      <td>Mario Kart Wii</td>\n",
       "      <td>Wii</td>\n",
       "      <td>2008.0</td>\n",
       "      <td>Racing</td>\n",
       "      <td>Nintendo</td>\n",
       "      <td>15.68</td>\n",
       "      <td>12.76</td>\n",
       "      <td>3.79</td>\n",
       "      <td>3.29</td>\n",
       "      <td>35.52</td>\n",
       "      <td>8.2</td>\n",
       "      <td>73.0</td>\n",
       "      <td>8.3</td>\n",
       "      <td>709.0</td>\n",
       "    </tr>\n",
       "    <tr>\n",
       "      <th>3</th>\n",
       "      <td>Wii Sports Resort</td>\n",
       "      <td>Wii</td>\n",
       "      <td>2009.0</td>\n",
       "      <td>Sports</td>\n",
       "      <td>Nintendo</td>\n",
       "      <td>15.61</td>\n",
       "      <td>10.93</td>\n",
       "      <td>3.28</td>\n",
       "      <td>2.95</td>\n",
       "      <td>32.77</td>\n",
       "      <td>8.0</td>\n",
       "      <td>73.0</td>\n",
       "      <td>8.0</td>\n",
       "      <td>192.0</td>\n",
       "    </tr>\n",
       "    <tr>\n",
       "      <th>4</th>\n",
       "      <td>Pokemon Red/Pokemon Blue</td>\n",
       "      <td>GB</td>\n",
       "      <td>1996.0</td>\n",
       "      <td>Role-Playing</td>\n",
       "      <td>Nintendo</td>\n",
       "      <td>11.27</td>\n",
       "      <td>8.89</td>\n",
       "      <td>10.22</td>\n",
       "      <td>1.00</td>\n",
       "      <td>31.37</td>\n",
       "      <td>NaN</td>\n",
       "      <td>NaN</td>\n",
       "      <td>NaN</td>\n",
       "      <td>NaN</td>\n",
       "    </tr>\n",
       "  </tbody>\n",
       "</table>\n",
       "</div>"
      ],
      "text/plain": [
       "                       Name Platform  Year_of_Release         Genre Publisher  \\\n",
       "0                Wii Sports      Wii           2006.0        Sports  Nintendo   \n",
       "1         Super Mario Bros.      NES           1985.0      Platform  Nintendo   \n",
       "2            Mario Kart Wii      Wii           2008.0        Racing  Nintendo   \n",
       "3         Wii Sports Resort      Wii           2009.0        Sports  Nintendo   \n",
       "4  Pokemon Red/Pokemon Blue       GB           1996.0  Role-Playing  Nintendo   \n",
       "\n",
       "   NA_Sales  EU_Sales  JP_Sales  Other_Sales  Global_Sales  Critic_Score  \\\n",
       "0     41.36     28.96      3.77         8.45         82.53           7.6   \n",
       "1     29.08      3.58      6.81         0.77         40.24           NaN   \n",
       "2     15.68     12.76      3.79         3.29         35.52           8.2   \n",
       "3     15.61     10.93      3.28         2.95         32.77           8.0   \n",
       "4     11.27      8.89     10.22         1.00         31.37           NaN   \n",
       "\n",
       "   Critic_Count  User_Score  User_Count  \n",
       "0          51.0         8.0       322.0  \n",
       "1           NaN         NaN         NaN  \n",
       "2          73.0         8.3       709.0  \n",
       "3          73.0         8.0       192.0  \n",
       "4           NaN         NaN         NaN  "
      ]
     },
     "execution_count": 20,
     "metadata": {},
     "output_type": "execute_result"
    }
   ],
   "source": [
    "df.head()"
   ]
  },
  {
   "cell_type": "code",
   "execution_count": 21,
   "metadata": {},
   "outputs": [
    {
     "data": {
      "text/plain": [
       "Action          3307\n",
       "Sports          2306\n",
       "Misc            1697\n",
       "Role-Playing    1483\n",
       "Shooter         1296\n",
       "Adventure       1291\n",
       "Racing          1225\n",
       "Platform         878\n",
       "Simulation       855\n",
       "Fighting         837\n",
       "Strategy         672\n",
       "Puzzle           569\n",
       "Name: Genre, dtype: int64"
      ]
     },
     "execution_count": 21,
     "metadata": {},
     "output_type": "execute_result"
    }
   ],
   "source": [
    "df['Genre'].value_counts()"
   ]
  },
  {
   "cell_type": "markdown",
   "metadata": {},
   "source": [
    "# EDA"
   ]
  },
  {
   "cell_type": "markdown",
   "metadata": {},
   "source": [
    "- First we look at the distribution of the columns"
   ]
  },
  {
   "cell_type": "code",
   "execution_count": 22,
   "metadata": {
    "scrolled": false
   },
   "outputs": [
    {
     "name": "stderr",
     "output_type": "stream",
     "text": [
      "<ipython-input-22-79d59cfc256a>:3: UserWarning: To output multiple subplots, the figure containing the passed axes is being cleared\n",
      "  df.hist(ax = ax)\n"
     ]
    },
    {
     "data": {
      "text/plain": [
       "array([[<AxesSubplot:title={'center':'Year_of_Release'}>,\n",
       "        <AxesSubplot:title={'center':'NA_Sales'}>,\n",
       "        <AxesSubplot:title={'center':'EU_Sales'}>],\n",
       "       [<AxesSubplot:title={'center':'JP_Sales'}>,\n",
       "        <AxesSubplot:title={'center':'Other_Sales'}>,\n",
       "        <AxesSubplot:title={'center':'Global_Sales'}>],\n",
       "       [<AxesSubplot:title={'center':'Critic_Score'}>,\n",
       "        <AxesSubplot:title={'center':'Critic_Count'}>,\n",
       "        <AxesSubplot:title={'center':'User_Score'}>],\n",
       "       [<AxesSubplot:title={'center':'User_Count'}>, <AxesSubplot:>,\n",
       "        <AxesSubplot:>]], dtype=object)"
      ]
     },
     "execution_count": 22,
     "metadata": {},
     "output_type": "execute_result"
    },
    {
     "data": {
      "image/png": "[encoded data removed]",
      "text/plain": [
       "<Figure size 1080x1440 with 12 Axes>"
      ]
     },
     "metadata": {
      "needs_background": "light"
     },
     "output_type": "display_data"
    }
   ],
   "source": [
    "fig = plt.figure(figsize = (15,20))\n",
    "ax = fig.gca()\n",
    "df.hist(ax = ax)"
   ]
  },
  {
   "cell_type": "code",
   "execution_count": 23,
   "metadata": {
    "scrolled": false
   },
   "outputs": [
    {
     "data": {
      "image/png": "[encoded data removed]",
      "text/plain": [
       "<Figure size 720x720 with 2 Axes>"
      ]
     },
     "metadata": {
      "needs_background": "light"
     },
     "output_type": "display_data"
    }
   ],
   "source": [
    "corr = df.corr().abs()\n",
    "fig, ax=plt.subplots(figsize=(10,10))\n",
    "sns.heatmap(corr, cmap='Reds', annot=True);"
   ]
  },
  {
   "cell_type": "code",
   "execution_count": 24,
   "metadata": {},
   "outputs": [
    {
     "name": "stdout",
     "output_type": "stream",
     "text": [
      "count    16416.000000\n",
      "mean      2006.489888\n",
      "std          5.881148\n",
      "min       1980.000000\n",
      "25%       2003.000000\n",
      "50%       2007.000000\n",
      "75%       2010.000000\n",
      "max       2020.000000\n",
      "Name: Year_of_Release, dtype: float64\n"
     ]
    },
    {
     "data": {
      "image/png": "[encoded data removed]",
      "text/plain": [
       "<Figure size 1080x432 with 1 Axes>"
      ]
     },
     "metadata": {
      "needs_background": "light"
     },
     "output_type": "display_data"
    }
   ],
   "source": [
    "print(df['Year_of_Release'].describe()) \n",
    "\n",
    "# Number rating by rating year\n",
    "df.groupby('Year_of_Release').count().User_Score.plot(kind='bar', figsize=(15,6))\n",
    "plt.title('Number of score by year of score');"
   ]
  },
  {
   "cell_type": "markdown",
   "metadata": {},
   "source": [
    "- Next I look at which genres is most prevalent in the dataset"
   ]
  },
  {
   "cell_type": "code",
   "execution_count": 25,
   "metadata": {
    "scrolled": true
   },
   "outputs": [
    {
     "name": "stdout",
     "output_type": "stream",
     "text": [
      "AxesSubplot(0.125,0.125;0.775x0.755)\n"
     ]
    },
    {
     "data": {
      "image/png": "[encoded data removed]",
      "text/plain": [
       "<Figure size 432x288 with 1 Axes>"
      ]
     },
     "metadata": {
      "needs_background": "light"
     },
     "output_type": "display_data"
    }
   ],
   "source": [
    "print(df['Genre'].value_counts().plot(kind='bar'))"
   ]
  },
  {
   "cell_type": "code",
   "execution_count": null,
   "metadata": {},
   "outputs": [],
   "source": []
  },
  {
   "cell_type": "code",
   "execution_count": 26,
   "metadata": {
    "scrolled": false
   },
   "outputs": [
    {
     "data": {
      "image/png": "[encoded data removed]",
      "text/plain": [
       "<Figure size 720x720 with 1 Axes>"
      ]
     },
     "metadata": {
      "needs_background": "light"
     },
     "output_type": "display_data"
    }
   ],
   "source": [
    "#Create plot to visualize the gathered data\n",
    "fig, ax = plt.subplots(figsize=(10, 10))\n",
    "\n",
    "#Group by box office, calculate sum of box office and sort by box office\n",
    "aggregation_functions1 = {'Global_Sales': 'mean'}\n",
    "df1 = df.groupby(df['Genre']).aggregate(aggregation_functions1).reset_index()\n",
    "df1.sort_values('Global_Sales', inplace = True, \n",
    "               ascending = False, ignore_index = True)\n",
    "\n",
    "#Plot using box office and rating \n",
    "sns.barplot(x = \"Global_Sales\", y = \"Genre\", \n",
    "              data = df1, palette = 'flare_r', ci = None)\n",
    "\n",
    "#Setting title and labels\n",
    "ax.set_xlabel('Profitable Genres(Millions of USD)', fontsize = 13, weight = 'bold')\n",
    "ax.set_ylabel('Top Genres', fontsize = 13, weight = 'bold')\n",
    "ax.set_title('Best Genres based on Global Sales', fontsize = 20);"
   ]
  },
  {
   "cell_type": "code",
   "execution_count": 27,
   "metadata": {},
   "outputs": [
    {
     "data": {
      "image/png": "[encoded data removed]",
      "text/plain": [
       "<Figure size 720x720 with 1 Axes>"
      ]
     },
     "metadata": {
      "needs_background": "light"
     },
     "output_type": "display_data"
    }
   ],
   "source": [
    "#Create plot to visualize the gathered data\n",
    "fig, ax = plt.subplots(figsize=(10, 10))\n",
    "\n",
    "#Group by box office, calculate sum of box office and sort by box office\n",
    "aggregation_functions1 = {'Global_Sales': 'mean'}\n",
    "df1 = df.groupby(df['Platform']).aggregate(aggregation_functions1).reset_index()\n",
    "df1.sort_values('Global_Sales', inplace = True, \n",
    "               ascending = False, ignore_index = True)\n",
    "\n",
    "#Plot using box office and rating \n",
    "sns.barplot(x = \"Global_Sales\", y = \"Platform\", \n",
    "              data = df1, palette = 'flare_r', ci = None)\n",
    "\n",
    "#Setting title and labels\n",
    "ax.set_xlabel('Profitable Platform(Millions of USD)', fontsize = 13, weight = 'bold')\n",
    "ax.set_ylabel('Top Platform', fontsize = 5, weight = 'bold')\n",
    "ax.set_title('Best Platform based on Global Sales', fontsize = 20);"
   ]
  },
  {
   "cell_type": "code",
   "execution_count": 28,
   "metadata": {},
   "outputs": [
    {
     "data": {
      "text/html": [
       "<div>\n",
       "<style scoped>\n",
       "    .dataframe tbody tr th:only-of-type {\n",
       "        vertical-align: middle;\n",
       "    }\n",
       "\n",
       "    .dataframe tbody tr th {\n",
       "        vertical-align: top;\n",
       "    }\n",
       "\n",
       "    .dataframe thead th {\n",
       "        text-align: right;\n",
       "    }\n",
       "</style>\n",
       "<table border=\"1\" class=\"dataframe\">\n",
       "  <thead>\n",
       "    <tr style=\"text-align: right;\">\n",
       "      <th></th>\n",
       "      <th>Name</th>\n",
       "      <th>Platform</th>\n",
       "      <th>Year_of_Release</th>\n",
       "      <th>Genre</th>\n",
       "      <th>Publisher</th>\n",
       "      <th>NA_Sales</th>\n",
       "      <th>EU_Sales</th>\n",
       "      <th>JP_Sales</th>\n",
       "      <th>Other_Sales</th>\n",
       "      <th>Global_Sales</th>\n",
       "      <th>Critic_Score</th>\n",
       "      <th>Critic_Count</th>\n",
       "      <th>User_Score</th>\n",
       "      <th>User_Count</th>\n",
       "    </tr>\n",
       "  </thead>\n",
       "  <tbody>\n",
       "    <tr>\n",
       "      <th>0</th>\n",
       "      <td>Wii Sports</td>\n",
       "      <td>Wii</td>\n",
       "      <td>2006.0</td>\n",
       "      <td>Sports</td>\n",
       "      <td>Nintendo</td>\n",
       "      <td>41.36</td>\n",
       "      <td>28.96</td>\n",
       "      <td>3.77</td>\n",
       "      <td>8.45</td>\n",
       "      <td>82.53</td>\n",
       "      <td>7.6</td>\n",
       "      <td>51.0</td>\n",
       "      <td>8.0</td>\n",
       "      <td>322.0</td>\n",
       "    </tr>\n",
       "    <tr>\n",
       "      <th>1</th>\n",
       "      <td>Super Mario Bros.</td>\n",
       "      <td>NES</td>\n",
       "      <td>1985.0</td>\n",
       "      <td>Platform</td>\n",
       "      <td>Nintendo</td>\n",
       "      <td>29.08</td>\n",
       "      <td>3.58</td>\n",
       "      <td>6.81</td>\n",
       "      <td>0.77</td>\n",
       "      <td>40.24</td>\n",
       "      <td>NaN</td>\n",
       "      <td>NaN</td>\n",
       "      <td>NaN</td>\n",
       "      <td>NaN</td>\n",
       "    </tr>\n",
       "    <tr>\n",
       "      <th>2</th>\n",
       "      <td>Mario Kart Wii</td>\n",
       "      <td>Wii</td>\n",
       "      <td>2008.0</td>\n",
       "      <td>Racing</td>\n",
       "      <td>Nintendo</td>\n",
       "      <td>15.68</td>\n",
       "      <td>12.76</td>\n",
       "      <td>3.79</td>\n",
       "      <td>3.29</td>\n",
       "      <td>35.52</td>\n",
       "      <td>8.2</td>\n",
       "      <td>73.0</td>\n",
       "      <td>8.3</td>\n",
       "      <td>709.0</td>\n",
       "    </tr>\n",
       "    <tr>\n",
       "      <th>3</th>\n",
       "      <td>Wii Sports Resort</td>\n",
       "      <td>Wii</td>\n",
       "      <td>2009.0</td>\n",
       "      <td>Sports</td>\n",
       "      <td>Nintendo</td>\n",
       "      <td>15.61</td>\n",
       "      <td>10.93</td>\n",
       "      <td>3.28</td>\n",
       "      <td>2.95</td>\n",
       "      <td>32.77</td>\n",
       "      <td>8.0</td>\n",
       "      <td>73.0</td>\n",
       "      <td>8.0</td>\n",
       "      <td>192.0</td>\n",
       "    </tr>\n",
       "    <tr>\n",
       "      <th>4</th>\n",
       "      <td>Pokemon Red/Pokemon Blue</td>\n",
       "      <td>GB</td>\n",
       "      <td>1996.0</td>\n",
       "      <td>Role-Playing</td>\n",
       "      <td>Nintendo</td>\n",
       "      <td>11.27</td>\n",
       "      <td>8.89</td>\n",
       "      <td>10.22</td>\n",
       "      <td>1.00</td>\n",
       "      <td>31.37</td>\n",
       "      <td>NaN</td>\n",
       "      <td>NaN</td>\n",
       "      <td>NaN</td>\n",
       "      <td>NaN</td>\n",
       "    </tr>\n",
       "  </tbody>\n",
       "</table>\n",
       "</div>"
      ],
      "text/plain": [
       "                       Name Platform  Year_of_Release         Genre Publisher  \\\n",
       "0                Wii Sports      Wii           2006.0        Sports  Nintendo   \n",
       "1         Super Mario Bros.      NES           1985.0      Platform  Nintendo   \n",
       "2            Mario Kart Wii      Wii           2008.0        Racing  Nintendo   \n",
       "3         Wii Sports Resort      Wii           2009.0        Sports  Nintendo   \n",
       "4  Pokemon Red/Pokemon Blue       GB           1996.0  Role-Playing  Nintendo   \n",
       "\n",
       "   NA_Sales  EU_Sales  JP_Sales  Other_Sales  Global_Sales  Critic_Score  \\\n",
       "0     41.36     28.96      3.77         8.45         82.53           7.6   \n",
       "1     29.08      3.58      6.81         0.77         40.24           NaN   \n",
       "2     15.68     12.76      3.79         3.29         35.52           8.2   \n",
       "3     15.61     10.93      3.28         2.95         32.77           8.0   \n",
       "4     11.27      8.89     10.22         1.00         31.37           NaN   \n",
       "\n",
       "   Critic_Count  User_Score  User_Count  \n",
       "0          51.0         8.0       322.0  \n",
       "1           NaN         NaN         NaN  \n",
       "2          73.0         8.3       709.0  \n",
       "3          73.0         8.0       192.0  \n",
       "4           NaN         NaN         NaN  "
      ]
     },
     "execution_count": 28,
     "metadata": {},
     "output_type": "execute_result"
    }
   ],
   "source": [
    "df.head()"
   ]
  },
  {
   "cell_type": "markdown",
   "metadata": {},
   "source": [
    " ## Dropping Wii Games"
   ]
  },
  {
   "cell_type": "code",
   "execution_count": 29,
   "metadata": {},
   "outputs": [],
   "source": [
    "df =df.drop(0)"
   ]
  },
  {
   "cell_type": "code",
   "execution_count": 30,
   "metadata": {
    "scrolled": false
   },
   "outputs": [
    {
     "data": {
      "text/html": [
       "<div>\n",
       "<style scoped>\n",
       "    .dataframe tbody tr th:only-of-type {\n",
       "        vertical-align: middle;\n",
       "    }\n",
       "\n",
       "    .dataframe tbody tr th {\n",
       "        vertical-align: top;\n",
       "    }\n",
       "\n",
       "    .dataframe thead th {\n",
       "        text-align: right;\n",
       "    }\n",
       "</style>\n",
       "<table border=\"1\" class=\"dataframe\">\n",
       "  <thead>\n",
       "    <tr style=\"text-align: right;\">\n",
       "      <th></th>\n",
       "      <th>Name</th>\n",
       "      <th>Platform</th>\n",
       "      <th>Year_of_Release</th>\n",
       "      <th>Genre</th>\n",
       "      <th>Publisher</th>\n",
       "      <th>NA_Sales</th>\n",
       "      <th>EU_Sales</th>\n",
       "      <th>JP_Sales</th>\n",
       "      <th>Other_Sales</th>\n",
       "      <th>Global_Sales</th>\n",
       "      <th>Critic_Score</th>\n",
       "      <th>Critic_Count</th>\n",
       "      <th>User_Score</th>\n",
       "      <th>User_Count</th>\n",
       "    </tr>\n",
       "  </thead>\n",
       "  <tbody>\n",
       "    <tr>\n",
       "      <th>1</th>\n",
       "      <td>Super Mario Bros.</td>\n",
       "      <td>NES</td>\n",
       "      <td>1985.0</td>\n",
       "      <td>Platform</td>\n",
       "      <td>Nintendo</td>\n",
       "      <td>29.08</td>\n",
       "      <td>3.58</td>\n",
       "      <td>6.81</td>\n",
       "      <td>0.77</td>\n",
       "      <td>40.24</td>\n",
       "      <td>NaN</td>\n",
       "      <td>NaN</td>\n",
       "      <td>NaN</td>\n",
       "      <td>NaN</td>\n",
       "    </tr>\n",
       "    <tr>\n",
       "      <th>2</th>\n",
       "      <td>Mario Kart Wii</td>\n",
       "      <td>Wii</td>\n",
       "      <td>2008.0</td>\n",
       "      <td>Racing</td>\n",
       "      <td>Nintendo</td>\n",
       "      <td>15.68</td>\n",
       "      <td>12.76</td>\n",
       "      <td>3.79</td>\n",
       "      <td>3.29</td>\n",
       "      <td>35.52</td>\n",
       "      <td>8.2</td>\n",
       "      <td>73.0</td>\n",
       "      <td>8.3</td>\n",
       "      <td>709.0</td>\n",
       "    </tr>\n",
       "    <tr>\n",
       "      <th>3</th>\n",
       "      <td>Wii Sports Resort</td>\n",
       "      <td>Wii</td>\n",
       "      <td>2009.0</td>\n",
       "      <td>Sports</td>\n",
       "      <td>Nintendo</td>\n",
       "      <td>15.61</td>\n",
       "      <td>10.93</td>\n",
       "      <td>3.28</td>\n",
       "      <td>2.95</td>\n",
       "      <td>32.77</td>\n",
       "      <td>8.0</td>\n",
       "      <td>73.0</td>\n",
       "      <td>8.0</td>\n",
       "      <td>192.0</td>\n",
       "    </tr>\n",
       "    <tr>\n",
       "      <th>4</th>\n",
       "      <td>Pokemon Red/Pokemon Blue</td>\n",
       "      <td>GB</td>\n",
       "      <td>1996.0</td>\n",
       "      <td>Role-Playing</td>\n",
       "      <td>Nintendo</td>\n",
       "      <td>11.27</td>\n",
       "      <td>8.89</td>\n",
       "      <td>10.22</td>\n",
       "      <td>1.00</td>\n",
       "      <td>31.37</td>\n",
       "      <td>NaN</td>\n",
       "      <td>NaN</td>\n",
       "      <td>NaN</td>\n",
       "      <td>NaN</td>\n",
       "    </tr>\n",
       "    <tr>\n",
       "      <th>5</th>\n",
       "      <td>Tetris</td>\n",
       "      <td>GB</td>\n",
       "      <td>1989.0</td>\n",
       "      <td>Puzzle</td>\n",
       "      <td>Nintendo</td>\n",
       "      <td>23.20</td>\n",
       "      <td>2.26</td>\n",
       "      <td>4.22</td>\n",
       "      <td>0.58</td>\n",
       "      <td>30.26</td>\n",
       "      <td>NaN</td>\n",
       "      <td>NaN</td>\n",
       "      <td>NaN</td>\n",
       "      <td>NaN</td>\n",
       "    </tr>\n",
       "  </tbody>\n",
       "</table>\n",
       "</div>"
      ],
      "text/plain": [
       "                       Name Platform  Year_of_Release         Genre Publisher  \\\n",
       "1         Super Mario Bros.      NES           1985.0      Platform  Nintendo   \n",
       "2            Mario Kart Wii      Wii           2008.0        Racing  Nintendo   \n",
       "3         Wii Sports Resort      Wii           2009.0        Sports  Nintendo   \n",
       "4  Pokemon Red/Pokemon Blue       GB           1996.0  Role-Playing  Nintendo   \n",
       "5                    Tetris       GB           1989.0        Puzzle  Nintendo   \n",
       "\n",
       "   NA_Sales  EU_Sales  JP_Sales  Other_Sales  Global_Sales  Critic_Score  \\\n",
       "1     29.08      3.58      6.81         0.77         40.24           NaN   \n",
       "2     15.68     12.76      3.79         3.29         35.52           8.2   \n",
       "3     15.61     10.93      3.28         2.95         32.77           8.0   \n",
       "4     11.27      8.89     10.22         1.00         31.37           NaN   \n",
       "5     23.20      2.26      4.22         0.58         30.26           NaN   \n",
       "\n",
       "   Critic_Count  User_Score  User_Count  \n",
       "1           NaN         NaN         NaN  \n",
       "2          73.0         8.3       709.0  \n",
       "3          73.0         8.0       192.0  \n",
       "4           NaN         NaN         NaN  \n",
       "5           NaN         NaN         NaN  "
      ]
     },
     "execution_count": 30,
     "metadata": {},
     "output_type": "execute_result"
    }
   ],
   "source": [
    "df.head()"
   ]
  },
  {
   "cell_type": "code",
   "execution_count": 31,
   "metadata": {
    "scrolled": true
   },
   "outputs": [
    {
     "name": "stdout",
     "output_type": "stream",
     "text": [
      "<class 'pandas.core.frame.DataFrame'>\n",
      "Int64Index: 16415 entries, 1 to 16718\n",
      "Data columns (total 14 columns):\n",
      " #   Column           Non-Null Count  Dtype  \n",
      "---  ------           --------------  -----  \n",
      " 0   Name             16415 non-null  object \n",
      " 1   Platform         16415 non-null  object \n",
      " 2   Year_of_Release  16415 non-null  float64\n",
      " 3   Genre            16415 non-null  object \n",
      " 4   Publisher        16415 non-null  object \n",
      " 5   NA_Sales         16415 non-null  float64\n",
      " 6   EU_Sales         16415 non-null  float64\n",
      " 7   JP_Sales         16415 non-null  float64\n",
      " 8   Other_Sales      16415 non-null  float64\n",
      " 9   Global_Sales     16415 non-null  float64\n",
      " 10  Critic_Score     7981 non-null   float64\n",
      " 11  Critic_Count     7981 non-null   float64\n",
      " 12  User_Score       7460 non-null   float64\n",
      " 13  User_Count       7460 non-null   float64\n",
      "dtypes: float64(10), object(4)\n",
      "memory usage: 1.9+ MB\n"
     ]
    }
   ],
   "source": [
    "df.info()"
   ]
  },
  {
   "cell_type": "code",
   "execution_count": 32,
   "metadata": {
    "scrolled": false
   },
   "outputs": [
    {
     "data": {
      "text/plain": [
       "40.24"
      ]
     },
     "execution_count": 32,
     "metadata": {},
     "output_type": "execute_result"
    }
   ],
   "source": [
    "df['Global_Sales'].max()"
   ]
  },
  {
   "cell_type": "code",
   "execution_count": 33,
   "metadata": {},
   "outputs": [
    {
     "data": {
      "text/plain": [
       "7.126782841823057"
      ]
     },
     "execution_count": 33,
     "metadata": {},
     "output_type": "execute_result"
    }
   ],
   "source": [
    "df['User_Score'].mean()"
   ]
  },
  {
   "cell_type": "code",
   "execution_count": 34,
   "metadata": {},
   "outputs": [],
   "source": [
    "df['Critic_Score'].fillna((df['Critic_Score'].mean()), inplace=True)\n",
    "df['Critic_Count'].fillna((df['Critic_Count'].mean()), inplace=True)\n",
    "df['User_Score'].fillna((df['User_Score'].mean()), inplace=True)\n",
    "df['User_Count'].fillna((df['User_Count'].mean()), inplace=True)"
   ]
  },
  {
   "cell_type": "code",
   "execution_count": 35,
   "metadata": {},
   "outputs": [
    {
     "name": "stdout",
     "output_type": "stream",
     "text": [
      "<class 'pandas.core.frame.DataFrame'>\n",
      "Int64Index: 16415 entries, 1 to 16718\n",
      "Data columns (total 14 columns):\n",
      " #   Column           Non-Null Count  Dtype  \n",
      "---  ------           --------------  -----  \n",
      " 0   Name             16415 non-null  object \n",
      " 1   Platform         16415 non-null  object \n",
      " 2   Year_of_Release  16415 non-null  float64\n",
      " 3   Genre            16415 non-null  object \n",
      " 4   Publisher        16415 non-null  object \n",
      " 5   NA_Sales         16415 non-null  float64\n",
      " 6   EU_Sales         16415 non-null  float64\n",
      " 7   JP_Sales         16415 non-null  float64\n",
      " 8   Other_Sales      16415 non-null  float64\n",
      " 9   Global_Sales     16415 non-null  float64\n",
      " 10  Critic_Score     16415 non-null  float64\n",
      " 11  Critic_Count     16415 non-null  float64\n",
      " 12  User_Score       16415 non-null  float64\n",
      " 13  User_Count       16415 non-null  float64\n",
      "dtypes: float64(10), object(4)\n",
      "memory usage: 1.9+ MB\n"
     ]
    }
   ],
   "source": [
    "df.info()"
   ]
  },
  {
   "cell_type": "code",
   "execution_count": 36,
   "metadata": {},
   "outputs": [
    {
     "data": {
      "text/plain": [
       "7.126782841823056"
      ]
     },
     "execution_count": 36,
     "metadata": {},
     "output_type": "execute_result"
    }
   ],
   "source": [
    "df['User_Score'].mean()"
   ]
  },
  {
   "cell_type": "markdown",
   "metadata": {},
   "source": [
    " ## Bin Sales and User Score "
   ]
  },
  {
   "cell_type": "markdown",
   "metadata": {},
   "source": [
    "- Here I create two new columns for binned global sales and binned User Score\n",
    "- Splitting them into two categories. Low and High"
   ]
  },
  {
   "cell_type": "code",
   "execution_count": 37,
   "metadata": {},
   "outputs": [
    {
     "data": {
      "text/plain": [
       "count    16415.000000\n",
       "mean         7.126783\n",
       "std          1.010464\n",
       "min          0.000000\n",
       "25%          7.126783\n",
       "50%          7.126783\n",
       "75%          7.300000\n",
       "max          9.700000\n",
       "Name: User_Score, dtype: float64"
      ]
     },
     "execution_count": 37,
     "metadata": {},
     "output_type": "execute_result"
    }
   ],
   "source": [
    "df['User_Score'].describe()"
   ]
  },
  {
   "cell_type": "code",
   "execution_count": 38,
   "metadata": {
    "scrolled": true
   },
   "outputs": [
    {
     "data": {
      "text/plain": [
       "low     11994\n",
       "high     4420\n",
       "Name: Score_Bin, dtype: int64"
      ]
     },
     "execution_count": 38,
     "metadata": {},
     "output_type": "execute_result"
    }
   ],
   "source": [
    "bins = [ 0,7.126783,9.7]\n",
    "labels =['low','high']\n",
    "df['Score_Bin'] = pd.cut(df['User_Score'], bins,labels=labels)\n",
    "\n",
    "\n",
    "df['Score_Bin'].value_counts()"
   ]
  },
  {
   "cell_type": "code",
   "execution_count": 39,
   "metadata": {
    "scrolled": true
   },
   "outputs": [
    {
     "name": "stdout",
     "output_type": "stream",
     "text": [
      "<class 'pandas.core.frame.DataFrame'>\n",
      "Int64Index: 16415 entries, 1 to 16718\n",
      "Data columns (total 15 columns):\n",
      " #   Column           Non-Null Count  Dtype   \n",
      "---  ------           --------------  -----   \n",
      " 0   Name             16415 non-null  object  \n",
      " 1   Platform         16415 non-null  object  \n",
      " 2   Year_of_Release  16415 non-null  float64 \n",
      " 3   Genre            16415 non-null  object  \n",
      " 4   Publisher        16415 non-null  object  \n",
      " 5   NA_Sales         16415 non-null  float64 \n",
      " 6   EU_Sales         16415 non-null  float64 \n",
      " 7   JP_Sales         16415 non-null  float64 \n",
      " 8   Other_Sales      16415 non-null  float64 \n",
      " 9   Global_Sales     16415 non-null  float64 \n",
      " 10  Critic_Score     16415 non-null  float64 \n",
      " 11  Critic_Count     16415 non-null  float64 \n",
      " 12  User_Score       16415 non-null  float64 \n",
      " 13  User_Count       16415 non-null  float64 \n",
      " 14  Score_Bin        16414 non-null  category\n",
      "dtypes: category(1), float64(10), object(4)\n",
      "memory usage: 1.9+ MB\n"
     ]
    }
   ],
   "source": [
    "df.info()"
   ]
  },
  {
   "cell_type": "code",
   "execution_count": 40,
   "metadata": {},
   "outputs": [
    {
     "data": {
      "text/plain": [
       "count    16415.000000\n",
       "mean         0.531713\n",
       "std          1.422596\n",
       "min          0.010000\n",
       "25%          0.060000\n",
       "50%          0.170000\n",
       "75%          0.470000\n",
       "max         40.240000\n",
       "Name: Global_Sales, dtype: float64"
      ]
     },
     "execution_count": 40,
     "metadata": {},
     "output_type": "execute_result"
    }
   ],
   "source": [
    "df['Global_Sales'].describe()"
   ]
  },
  {
   "cell_type": "code",
   "execution_count": 41,
   "metadata": {},
   "outputs": [],
   "source": [
    "# Binning Global sales"
   ]
  },
  {
   "cell_type": "code",
   "execution_count": 42,
   "metadata": {},
   "outputs": [
    {
     "data": {
      "text/plain": [
       "high    8057\n",
       "low     7737\n",
       "Name: bins_sales, dtype: int64"
      ]
     },
     "execution_count": 42,
     "metadata": {},
     "output_type": "execute_result"
    }
   ],
   "source": [
    "binz = [  0.010000,0.170000,40.240000]\n",
    "\n",
    "labelz = ['low','high']\n",
    "\n",
    "df['bins_sales'] = pd.cut(df['Global_Sales'], bins=binz, labels=labelz)\n",
    "df['bins_sales'].value_counts()"
   ]
  },
  {
   "cell_type": "code",
   "execution_count": 43,
   "metadata": {
    "scrolled": true
   },
   "outputs": [
    {
     "name": "stdout",
     "output_type": "stream",
     "text": [
      "<class 'pandas.core.frame.DataFrame'>\n",
      "Int64Index: 16415 entries, 1 to 16718\n",
      "Data columns (total 16 columns):\n",
      " #   Column           Non-Null Count  Dtype   \n",
      "---  ------           --------------  -----   \n",
      " 0   Name             16415 non-null  object  \n",
      " 1   Platform         16415 non-null  object  \n",
      " 2   Year_of_Release  16415 non-null  float64 \n",
      " 3   Genre            16415 non-null  object  \n",
      " 4   Publisher        16415 non-null  object  \n",
      " 5   NA_Sales         16415 non-null  float64 \n",
      " 6   EU_Sales         16415 non-null  float64 \n",
      " 7   JP_Sales         16415 non-null  float64 \n",
      " 8   Other_Sales      16415 non-null  float64 \n",
      " 9   Global_Sales     16415 non-null  float64 \n",
      " 10  Critic_Score     16415 non-null  float64 \n",
      " 11  Critic_Count     16415 non-null  float64 \n",
      " 12  User_Score       16415 non-null  float64 \n",
      " 13  User_Count       16415 non-null  float64 \n",
      " 14  Score_Bin        16414 non-null  category\n",
      " 15  bins_sales       15794 non-null  category\n",
      "dtypes: category(2), float64(10), object(4)\n",
      "memory usage: 1.9+ MB\n"
     ]
    }
   ],
   "source": [
    "df.info()"
   ]
  },
  {
   "cell_type": "code",
   "execution_count": 44,
   "metadata": {
    "scrolled": false
   },
   "outputs": [
    {
     "data": {
      "text/plain": [
       "high    8057\n",
       "low     7737\n",
       "Name: bins_sales, dtype: int64"
      ]
     },
     "execution_count": 44,
     "metadata": {},
     "output_type": "execute_result"
    }
   ],
   "source": [
    "df['bins_sales'].value_counts()"
   ]
  },
  {
   "cell_type": "code",
   "execution_count": 45,
   "metadata": {
    "scrolled": true
   },
   "outputs": [
    {
     "data": {
      "text/html": [
       "<div>\n",
       "<style scoped>\n",
       "    .dataframe tbody tr th:only-of-type {\n",
       "        vertical-align: middle;\n",
       "    }\n",
       "\n",
       "    .dataframe tbody tr th {\n",
       "        vertical-align: top;\n",
       "    }\n",
       "\n",
       "    .dataframe thead th {\n",
       "        text-align: right;\n",
       "    }\n",
       "</style>\n",
       "<table border=\"1\" class=\"dataframe\">\n",
       "  <thead>\n",
       "    <tr style=\"text-align: right;\">\n",
       "      <th></th>\n",
       "      <th>Name</th>\n",
       "      <th>Platform</th>\n",
       "      <th>Year_of_Release</th>\n",
       "      <th>Genre</th>\n",
       "      <th>Publisher</th>\n",
       "      <th>NA_Sales</th>\n",
       "      <th>EU_Sales</th>\n",
       "      <th>JP_Sales</th>\n",
       "      <th>Other_Sales</th>\n",
       "      <th>Global_Sales</th>\n",
       "      <th>Critic_Score</th>\n",
       "      <th>Critic_Count</th>\n",
       "      <th>User_Score</th>\n",
       "      <th>User_Count</th>\n",
       "      <th>Score_Bin</th>\n",
       "      <th>bins_sales</th>\n",
       "    </tr>\n",
       "  </thead>\n",
       "  <tbody>\n",
       "    <tr>\n",
       "      <th>2</th>\n",
       "      <td>Mario Kart Wii</td>\n",
       "      <td>Wii</td>\n",
       "      <td>2008.0</td>\n",
       "      <td>Racing</td>\n",
       "      <td>Nintendo</td>\n",
       "      <td>15.68</td>\n",
       "      <td>12.76</td>\n",
       "      <td>3.79</td>\n",
       "      <td>3.29</td>\n",
       "      <td>35.52</td>\n",
       "      <td>8.2</td>\n",
       "      <td>73.0</td>\n",
       "      <td>8.3</td>\n",
       "      <td>709.0</td>\n",
       "      <td>high</td>\n",
       "      <td>high</td>\n",
       "    </tr>\n",
       "    <tr>\n",
       "      <th>3</th>\n",
       "      <td>Wii Sports Resort</td>\n",
       "      <td>Wii</td>\n",
       "      <td>2009.0</td>\n",
       "      <td>Sports</td>\n",
       "      <td>Nintendo</td>\n",
       "      <td>15.61</td>\n",
       "      <td>10.93</td>\n",
       "      <td>3.28</td>\n",
       "      <td>2.95</td>\n",
       "      <td>32.77</td>\n",
       "      <td>8.0</td>\n",
       "      <td>73.0</td>\n",
       "      <td>8.0</td>\n",
       "      <td>192.0</td>\n",
       "      <td>high</td>\n",
       "      <td>high</td>\n",
       "    </tr>\n",
       "    <tr>\n",
       "      <th>6</th>\n",
       "      <td>New Super Mario Bros.</td>\n",
       "      <td>DS</td>\n",
       "      <td>2006.0</td>\n",
       "      <td>Platform</td>\n",
       "      <td>Nintendo</td>\n",
       "      <td>11.28</td>\n",
       "      <td>9.14</td>\n",
       "      <td>6.50</td>\n",
       "      <td>2.88</td>\n",
       "      <td>29.80</td>\n",
       "      <td>8.9</td>\n",
       "      <td>65.0</td>\n",
       "      <td>8.5</td>\n",
       "      <td>431.0</td>\n",
       "      <td>high</td>\n",
       "      <td>high</td>\n",
       "    </tr>\n",
       "    <tr>\n",
       "      <th>8</th>\n",
       "      <td>New Super Mario Bros. Wii</td>\n",
       "      <td>Wii</td>\n",
       "      <td>2009.0</td>\n",
       "      <td>Platform</td>\n",
       "      <td>Nintendo</td>\n",
       "      <td>14.44</td>\n",
       "      <td>6.94</td>\n",
       "      <td>4.70</td>\n",
       "      <td>2.24</td>\n",
       "      <td>28.32</td>\n",
       "      <td>8.7</td>\n",
       "      <td>80.0</td>\n",
       "      <td>8.4</td>\n",
       "      <td>594.0</td>\n",
       "      <td>high</td>\n",
       "      <td>high</td>\n",
       "    </tr>\n",
       "    <tr>\n",
       "      <th>11</th>\n",
       "      <td>Mario Kart DS</td>\n",
       "      <td>DS</td>\n",
       "      <td>2005.0</td>\n",
       "      <td>Racing</td>\n",
       "      <td>Nintendo</td>\n",
       "      <td>9.71</td>\n",
       "      <td>7.47</td>\n",
       "      <td>4.13</td>\n",
       "      <td>1.90</td>\n",
       "      <td>23.21</td>\n",
       "      <td>9.1</td>\n",
       "      <td>64.0</td>\n",
       "      <td>8.6</td>\n",
       "      <td>464.0</td>\n",
       "      <td>high</td>\n",
       "      <td>high</td>\n",
       "    </tr>\n",
       "    <tr>\n",
       "      <th>13</th>\n",
       "      <td>Wii Fit</td>\n",
       "      <td>Wii</td>\n",
       "      <td>2007.0</td>\n",
       "      <td>Sports</td>\n",
       "      <td>Nintendo</td>\n",
       "      <td>8.92</td>\n",
       "      <td>8.03</td>\n",
       "      <td>3.60</td>\n",
       "      <td>2.15</td>\n",
       "      <td>22.70</td>\n",
       "      <td>8.0</td>\n",
       "      <td>63.0</td>\n",
       "      <td>7.7</td>\n",
       "      <td>146.0</td>\n",
       "      <td>high</td>\n",
       "      <td>high</td>\n",
       "    </tr>\n",
       "    <tr>\n",
       "      <th>15</th>\n",
       "      <td>Wii Fit Plus</td>\n",
       "      <td>Wii</td>\n",
       "      <td>2009.0</td>\n",
       "      <td>Sports</td>\n",
       "      <td>Nintendo</td>\n",
       "      <td>9.01</td>\n",
       "      <td>8.49</td>\n",
       "      <td>2.53</td>\n",
       "      <td>1.77</td>\n",
       "      <td>21.79</td>\n",
       "      <td>8.0</td>\n",
       "      <td>33.0</td>\n",
       "      <td>7.4</td>\n",
       "      <td>52.0</td>\n",
       "      <td>high</td>\n",
       "      <td>high</td>\n",
       "    </tr>\n",
       "    <tr>\n",
       "      <th>16</th>\n",
       "      <td>Grand Theft Auto V</td>\n",
       "      <td>PS3</td>\n",
       "      <td>2013.0</td>\n",
       "      <td>Action</td>\n",
       "      <td>Take-Two Interactive</td>\n",
       "      <td>7.02</td>\n",
       "      <td>9.09</td>\n",
       "      <td>0.98</td>\n",
       "      <td>3.96</td>\n",
       "      <td>21.04</td>\n",
       "      <td>9.7</td>\n",
       "      <td>50.0</td>\n",
       "      <td>8.2</td>\n",
       "      <td>3994.0</td>\n",
       "      <td>high</td>\n",
       "      <td>high</td>\n",
       "    </tr>\n",
       "    <tr>\n",
       "      <th>17</th>\n",
       "      <td>Grand Theft Auto: San Andreas</td>\n",
       "      <td>PS2</td>\n",
       "      <td>2004.0</td>\n",
       "      <td>Action</td>\n",
       "      <td>Take-Two Interactive</td>\n",
       "      <td>9.43</td>\n",
       "      <td>0.40</td>\n",
       "      <td>0.41</td>\n",
       "      <td>10.57</td>\n",
       "      <td>20.81</td>\n",
       "      <td>9.5</td>\n",
       "      <td>80.0</td>\n",
       "      <td>9.0</td>\n",
       "      <td>1588.0</td>\n",
       "      <td>high</td>\n",
       "      <td>high</td>\n",
       "    </tr>\n",
       "    <tr>\n",
       "      <th>19</th>\n",
       "      <td>Brain Age: Train Your Brain in Minutes a Day</td>\n",
       "      <td>DS</td>\n",
       "      <td>2005.0</td>\n",
       "      <td>Misc</td>\n",
       "      <td>Nintendo</td>\n",
       "      <td>4.74</td>\n",
       "      <td>9.20</td>\n",
       "      <td>4.16</td>\n",
       "      <td>2.04</td>\n",
       "      <td>20.15</td>\n",
       "      <td>7.7</td>\n",
       "      <td>58.0</td>\n",
       "      <td>7.9</td>\n",
       "      <td>50.0</td>\n",
       "      <td>high</td>\n",
       "      <td>high</td>\n",
       "    </tr>\n",
       "    <tr>\n",
       "      <th>23</th>\n",
       "      <td>Grand Theft Auto V</td>\n",
       "      <td>X360</td>\n",
       "      <td>2013.0</td>\n",
       "      <td>Action</td>\n",
       "      <td>Take-Two Interactive</td>\n",
       "      <td>9.66</td>\n",
       "      <td>5.14</td>\n",
       "      <td>0.06</td>\n",
       "      <td>1.41</td>\n",
       "      <td>16.27</td>\n",
       "      <td>9.7</td>\n",
       "      <td>58.0</td>\n",
       "      <td>8.1</td>\n",
       "      <td>3711.0</td>\n",
       "      <td>high</td>\n",
       "      <td>high</td>\n",
       "    </tr>\n",
       "    <tr>\n",
       "      <th>24</th>\n",
       "      <td>Grand Theft Auto: Vice City</td>\n",
       "      <td>PS2</td>\n",
       "      <td>2002.0</td>\n",
       "      <td>Action</td>\n",
       "      <td>Take-Two Interactive</td>\n",
       "      <td>8.41</td>\n",
       "      <td>5.49</td>\n",
       "      <td>0.47</td>\n",
       "      <td>1.78</td>\n",
       "      <td>16.15</td>\n",
       "      <td>9.5</td>\n",
       "      <td>62.0</td>\n",
       "      <td>8.7</td>\n",
       "      <td>730.0</td>\n",
       "      <td>high</td>\n",
       "      <td>high</td>\n",
       "    </tr>\n",
       "    <tr>\n",
       "      <th>28</th>\n",
       "      <td>Gran Turismo 3: A-Spec</td>\n",
       "      <td>PS2</td>\n",
       "      <td>2001.0</td>\n",
       "      <td>Racing</td>\n",
       "      <td>Sony Computer Entertainment</td>\n",
       "      <td>6.85</td>\n",
       "      <td>5.09</td>\n",
       "      <td>1.87</td>\n",
       "      <td>1.16</td>\n",
       "      <td>14.98</td>\n",
       "      <td>9.5</td>\n",
       "      <td>54.0</td>\n",
       "      <td>8.4</td>\n",
       "      <td>314.0</td>\n",
       "      <td>high</td>\n",
       "      <td>high</td>\n",
       "    </tr>\n",
       "    <tr>\n",
       "      <th>38</th>\n",
       "      <td>Grand Theft Auto III</td>\n",
       "      <td>PS2</td>\n",
       "      <td>2001.0</td>\n",
       "      <td>Action</td>\n",
       "      <td>Take-Two Interactive</td>\n",
       "      <td>6.99</td>\n",
       "      <td>4.51</td>\n",
       "      <td>0.30</td>\n",
       "      <td>1.30</td>\n",
       "      <td>13.10</td>\n",
       "      <td>9.7</td>\n",
       "      <td>56.0</td>\n",
       "      <td>8.5</td>\n",
       "      <td>664.0</td>\n",
       "      <td>high</td>\n",
       "      <td>high</td>\n",
       "    </tr>\n",
       "    <tr>\n",
       "      <th>39</th>\n",
       "      <td>Super Smash Bros. Brawl</td>\n",
       "      <td>Wii</td>\n",
       "      <td>2008.0</td>\n",
       "      <td>Fighting</td>\n",
       "      <td>Nintendo</td>\n",
       "      <td>6.62</td>\n",
       "      <td>2.55</td>\n",
       "      <td>2.66</td>\n",
       "      <td>1.01</td>\n",
       "      <td>12.84</td>\n",
       "      <td>9.3</td>\n",
       "      <td>81.0</td>\n",
       "      <td>8.9</td>\n",
       "      <td>1662.0</td>\n",
       "      <td>high</td>\n",
       "      <td>high</td>\n",
       "    </tr>\n",
       "    <tr>\n",
       "      <th>40</th>\n",
       "      <td>Mario Kart 7</td>\n",
       "      <td>3DS</td>\n",
       "      <td>2011.0</td>\n",
       "      <td>Racing</td>\n",
       "      <td>Nintendo</td>\n",
       "      <td>5.03</td>\n",
       "      <td>4.02</td>\n",
       "      <td>2.69</td>\n",
       "      <td>0.91</td>\n",
       "      <td>12.66</td>\n",
       "      <td>8.5</td>\n",
       "      <td>73.0</td>\n",
       "      <td>8.2</td>\n",
       "      <td>632.0</td>\n",
       "      <td>high</td>\n",
       "      <td>high</td>\n",
       "    </tr>\n",
       "    <tr>\n",
       "      <th>42</th>\n",
       "      <td>Grand Theft Auto V</td>\n",
       "      <td>PS4</td>\n",
       "      <td>2014.0</td>\n",
       "      <td>Action</td>\n",
       "      <td>Take-Two Interactive</td>\n",
       "      <td>3.96</td>\n",
       "      <td>6.31</td>\n",
       "      <td>0.38</td>\n",
       "      <td>1.97</td>\n",
       "      <td>12.61</td>\n",
       "      <td>9.7</td>\n",
       "      <td>66.0</td>\n",
       "      <td>8.3</td>\n",
       "      <td>2899.0</td>\n",
       "      <td>high</td>\n",
       "      <td>high</td>\n",
       "    </tr>\n",
       "    <tr>\n",
       "      <th>43</th>\n",
       "      <td>Animal Crossing: Wild World</td>\n",
       "      <td>DS</td>\n",
       "      <td>2005.0</td>\n",
       "      <td>Simulation</td>\n",
       "      <td>Nintendo</td>\n",
       "      <td>2.50</td>\n",
       "      <td>3.45</td>\n",
       "      <td>5.33</td>\n",
       "      <td>0.86</td>\n",
       "      <td>12.13</td>\n",
       "      <td>8.6</td>\n",
       "      <td>57.0</td>\n",
       "      <td>8.7</td>\n",
       "      <td>242.0</td>\n",
       "      <td>high</td>\n",
       "      <td>high</td>\n",
       "    </tr>\n",
       "    <tr>\n",
       "      <th>44</th>\n",
       "      <td>Halo 3</td>\n",
       "      <td>X360</td>\n",
       "      <td>2007.0</td>\n",
       "      <td>Shooter</td>\n",
       "      <td>Microsoft Game Studios</td>\n",
       "      <td>7.97</td>\n",
       "      <td>2.81</td>\n",
       "      <td>0.13</td>\n",
       "      <td>1.21</td>\n",
       "      <td>12.12</td>\n",
       "      <td>9.4</td>\n",
       "      <td>86.0</td>\n",
       "      <td>7.8</td>\n",
       "      <td>4100.0</td>\n",
       "      <td>high</td>\n",
       "      <td>high</td>\n",
       "    </tr>\n",
       "    <tr>\n",
       "      <th>48</th>\n",
       "      <td>Gran Turismo 4</td>\n",
       "      <td>PS2</td>\n",
       "      <td>2004.0</td>\n",
       "      <td>Racing</td>\n",
       "      <td>Sony Computer Entertainment</td>\n",
       "      <td>3.01</td>\n",
       "      <td>0.01</td>\n",
       "      <td>1.10</td>\n",
       "      <td>7.53</td>\n",
       "      <td>11.66</td>\n",
       "      <td>8.9</td>\n",
       "      <td>74.0</td>\n",
       "      <td>8.5</td>\n",
       "      <td>272.0</td>\n",
       "      <td>high</td>\n",
       "      <td>high</td>\n",
       "    </tr>\n",
       "  </tbody>\n",
       "</table>\n",
       "</div>"
      ],
      "text/plain": [
       "                                            Name Platform  Year_of_Release  \\\n",
       "2                                 Mario Kart Wii      Wii           2008.0   \n",
       "3                              Wii Sports Resort      Wii           2009.0   \n",
       "6                          New Super Mario Bros.       DS           2006.0   \n",
       "8                      New Super Mario Bros. Wii      Wii           2009.0   \n",
       "11                                 Mario Kart DS       DS           2005.0   \n",
       "13                                       Wii Fit      Wii           2007.0   \n",
       "15                                  Wii Fit Plus      Wii           2009.0   \n",
       "16                            Grand Theft Auto V      PS3           2013.0   \n",
       "17                 Grand Theft Auto: San Andreas      PS2           2004.0   \n",
       "19  Brain Age: Train Your Brain in Minutes a Day       DS           2005.0   \n",
       "23                            Grand Theft Auto V     X360           2013.0   \n",
       "24                   Grand Theft Auto: Vice City      PS2           2002.0   \n",
       "28                        Gran Turismo 3: A-Spec      PS2           2001.0   \n",
       "38                          Grand Theft Auto III      PS2           2001.0   \n",
       "39                       Super Smash Bros. Brawl      Wii           2008.0   \n",
       "40                                  Mario Kart 7      3DS           2011.0   \n",
       "42                            Grand Theft Auto V      PS4           2014.0   \n",
       "43                   Animal Crossing: Wild World       DS           2005.0   \n",
       "44                                        Halo 3     X360           2007.0   \n",
       "48                                Gran Turismo 4      PS2           2004.0   \n",
       "\n",
       "         Genre                    Publisher  NA_Sales  EU_Sales  JP_Sales  \\\n",
       "2       Racing                     Nintendo     15.68     12.76      3.79   \n",
       "3       Sports                     Nintendo     15.61     10.93      3.28   \n",
       "6     Platform                     Nintendo     11.28      9.14      6.50   \n",
       "8     Platform                     Nintendo     14.44      6.94      4.70   \n",
       "11      Racing                     Nintendo      9.71      7.47      4.13   \n",
       "13      Sports                     Nintendo      8.92      8.03      3.60   \n",
       "15      Sports                     Nintendo      9.01      8.49      2.53   \n",
       "16      Action         Take-Two Interactive      7.02      9.09      0.98   \n",
       "17      Action         Take-Two Interactive      9.43      0.40      0.41   \n",
       "19        Misc                     Nintendo      4.74      9.20      4.16   \n",
       "23      Action         Take-Two Interactive      9.66      5.14      0.06   \n",
       "24      Action         Take-Two Interactive      8.41      5.49      0.47   \n",
       "28      Racing  Sony Computer Entertainment      6.85      5.09      1.87   \n",
       "38      Action         Take-Two Interactive      6.99      4.51      0.30   \n",
       "39    Fighting                     Nintendo      6.62      2.55      2.66   \n",
       "40      Racing                     Nintendo      5.03      4.02      2.69   \n",
       "42      Action         Take-Two Interactive      3.96      6.31      0.38   \n",
       "43  Simulation                     Nintendo      2.50      3.45      5.33   \n",
       "44     Shooter       Microsoft Game Studios      7.97      2.81      0.13   \n",
       "48      Racing  Sony Computer Entertainment      3.01      0.01      1.10   \n",
       "\n",
       "    Other_Sales  Global_Sales  Critic_Score  Critic_Count  User_Score  \\\n",
       "2          3.29         35.52           8.2          73.0         8.3   \n",
       "3          2.95         32.77           8.0          73.0         8.0   \n",
       "6          2.88         29.80           8.9          65.0         8.5   \n",
       "8          2.24         28.32           8.7          80.0         8.4   \n",
       "11         1.90         23.21           9.1          64.0         8.6   \n",
       "13         2.15         22.70           8.0          63.0         7.7   \n",
       "15         1.77         21.79           8.0          33.0         7.4   \n",
       "16         3.96         21.04           9.7          50.0         8.2   \n",
       "17        10.57         20.81           9.5          80.0         9.0   \n",
       "19         2.04         20.15           7.7          58.0         7.9   \n",
       "23         1.41         16.27           9.7          58.0         8.1   \n",
       "24         1.78         16.15           9.5          62.0         8.7   \n",
       "28         1.16         14.98           9.5          54.0         8.4   \n",
       "38         1.30         13.10           9.7          56.0         8.5   \n",
       "39         1.01         12.84           9.3          81.0         8.9   \n",
       "40         0.91         12.66           8.5          73.0         8.2   \n",
       "42         1.97         12.61           9.7          66.0         8.3   \n",
       "43         0.86         12.13           8.6          57.0         8.7   \n",
       "44         1.21         12.12           9.4          86.0         7.8   \n",
       "48         7.53         11.66           8.9          74.0         8.5   \n",
       "\n",
       "    User_Count Score_Bin bins_sales  \n",
       "2        709.0      high       high  \n",
       "3        192.0      high       high  \n",
       "6        431.0      high       high  \n",
       "8        594.0      high       high  \n",
       "11       464.0      high       high  \n",
       "13       146.0      high       high  \n",
       "15        52.0      high       high  \n",
       "16      3994.0      high       high  \n",
       "17      1588.0      high       high  \n",
       "19        50.0      high       high  \n",
       "23      3711.0      high       high  \n",
       "24       730.0      high       high  \n",
       "28       314.0      high       high  \n",
       "38       664.0      high       high  \n",
       "39      1662.0      high       high  \n",
       "40       632.0      high       high  \n",
       "42      2899.0      high       high  \n",
       "43       242.0      high       high  \n",
       "44      4100.0      high       high  \n",
       "48       272.0      high       high  "
      ]
     },
     "execution_count": 45,
     "metadata": {},
     "output_type": "execute_result"
    }
   ],
   "source": [
    "top_rated_games = df.loc[df['Score_Bin'] == 'high']\n",
    "top_rated_games.sort_values('Global_Sales',ascending = False).head(20)"
   ]
  },
  {
   "cell_type": "code",
   "execution_count": 46,
   "metadata": {
    "scrolled": false
   },
   "outputs": [
    {
     "name": "stdout",
     "output_type": "stream",
     "text": [
      "<class 'pandas.core.frame.DataFrame'>\n",
      "Int64Index: 16415 entries, 1 to 16718\n",
      "Data columns (total 16 columns):\n",
      " #   Column           Non-Null Count  Dtype   \n",
      "---  ------           --------------  -----   \n",
      " 0   Name             16415 non-null  object  \n",
      " 1   Platform         16415 non-null  object  \n",
      " 2   Year_of_Release  16415 non-null  float64 \n",
      " 3   Genre            16415 non-null  object  \n",
      " 4   Publisher        16415 non-null  object  \n",
      " 5   NA_Sales         16415 non-null  float64 \n",
      " 6   EU_Sales         16415 non-null  float64 \n",
      " 7   JP_Sales         16415 non-null  float64 \n",
      " 8   Other_Sales      16415 non-null  float64 \n",
      " 9   Global_Sales     16415 non-null  float64 \n",
      " 10  Critic_Score     16415 non-null  float64 \n",
      " 11  Critic_Count     16415 non-null  float64 \n",
      " 12  User_Score       16415 non-null  float64 \n",
      " 13  User_Count       16415 non-null  float64 \n",
      " 14  Score_Bin        16414 non-null  category\n",
      " 15  bins_sales       15794 non-null  category\n",
      "dtypes: category(2), float64(10), object(4)\n",
      "memory usage: 1.9+ MB\n"
     ]
    }
   ],
   "source": [
    "df.info()"
   ]
  },
  {
   "cell_type": "code",
   "execution_count": 47,
   "metadata": {},
   "outputs": [
    {
     "name": "stderr",
     "output_type": "stream",
     "text": [
      "<ipython-input-4-da6f0d32d362>:10: MatplotlibDeprecationWarning: Passing non-integers as three-element position specification is deprecated since 3.3 and will be removed two minor releases later.\n",
      "  plt.subplot(nGraphRow, nGraphPerRow, i + 1)\n",
      "<ipython-input-4-da6f0d32d362>:10: MatplotlibDeprecationWarning: Passing non-integers as three-element position specification is deprecated since 3.3 and will be removed two minor releases later.\n",
      "  plt.subplot(nGraphRow, nGraphPerRow, i + 1)\n",
      "<ipython-input-4-da6f0d32d362>:10: MatplotlibDeprecationWarning: Passing non-integers as three-element position specification is deprecated since 3.3 and will be removed two minor releases later.\n",
      "  plt.subplot(nGraphRow, nGraphPerRow, i + 1)\n",
      "<ipython-input-4-da6f0d32d362>:10: MatplotlibDeprecationWarning: Passing non-integers as three-element position specification is deprecated since 3.3 and will be removed two minor releases later.\n",
      "  plt.subplot(nGraphRow, nGraphPerRow, i + 1)\n"
     ]
    },
    {
     "data": {
      "image/png": "[encoded data removed]",
      "text/plain": [
       "<Figure size 2400x1152 with 5 Axes>"
      ]
     },
     "metadata": {},
     "output_type": "display_data"
    }
   ],
   "source": [
    "plotPerColumnDistribution(df, 10, 5)"
   ]
  },
  {
   "cell_type": "code",
   "execution_count": 48,
   "metadata": {},
   "outputs": [],
   "source": [
    "#df['Critic_Score'].fillna((df['Critic_Score'].mean()), inplace=True)\n",
    "#df['Critic_Count'].fillna((df['Critic_Count'].mean()), inplace=True)\n",
    "#df['User_Score'].fillna((df['User_Score'].mean()), inplace=True)\n",
    "#df['User_Count'].fillna((df['User_Count'].mean()), inplace=True)\n"
   ]
  },
  {
   "cell_type": "code",
   "execution_count": 49,
   "metadata": {
    "scrolled": true
   },
   "outputs": [
    {
     "name": "stdout",
     "output_type": "stream",
     "text": [
      "<class 'pandas.core.frame.DataFrame'>\n",
      "Int64Index: 16415 entries, 1 to 16718\n",
      "Data columns (total 16 columns):\n",
      " #   Column           Non-Null Count  Dtype   \n",
      "---  ------           --------------  -----   \n",
      " 0   Name             16415 non-null  object  \n",
      " 1   Platform         16415 non-null  object  \n",
      " 2   Year_of_Release  16415 non-null  float64 \n",
      " 3   Genre            16415 non-null  object  \n",
      " 4   Publisher        16415 non-null  object  \n",
      " 5   NA_Sales         16415 non-null  float64 \n",
      " 6   EU_Sales         16415 non-null  float64 \n",
      " 7   JP_Sales         16415 non-null  float64 \n",
      " 8   Other_Sales      16415 non-null  float64 \n",
      " 9   Global_Sales     16415 non-null  float64 \n",
      " 10  Critic_Score     16415 non-null  float64 \n",
      " 11  Critic_Count     16415 non-null  float64 \n",
      " 12  User_Score       16415 non-null  float64 \n",
      " 13  User_Count       16415 non-null  float64 \n",
      " 14  Score_Bin        16414 non-null  category\n",
      " 15  bins_sales       15794 non-null  category\n",
      "dtypes: category(2), float64(10), object(4)\n",
      "memory usage: 1.9+ MB\n"
     ]
    }
   ],
   "source": [
    "df.info()"
   ]
  },
  {
   "cell_type": "code",
   "execution_count": 50,
   "metadata": {
    "scrolled": false
   },
   "outputs": [
    {
     "data": {
      "text/html": [
       "<div>\n",
       "<style scoped>\n",
       "    .dataframe tbody tr th:only-of-type {\n",
       "        vertical-align: middle;\n",
       "    }\n",
       "\n",
       "    .dataframe tbody tr th {\n",
       "        vertical-align: top;\n",
       "    }\n",
       "\n",
       "    .dataframe thead th {\n",
       "        text-align: right;\n",
       "    }\n",
       "</style>\n",
       "<table border=\"1\" class=\"dataframe\">\n",
       "  <thead>\n",
       "    <tr style=\"text-align: right;\">\n",
       "      <th></th>\n",
       "      <th>Name</th>\n",
       "      <th>Platform</th>\n",
       "      <th>Year_of_Release</th>\n",
       "      <th>Genre</th>\n",
       "      <th>Publisher</th>\n",
       "      <th>NA_Sales</th>\n",
       "      <th>EU_Sales</th>\n",
       "      <th>JP_Sales</th>\n",
       "      <th>Other_Sales</th>\n",
       "      <th>Global_Sales</th>\n",
       "      <th>Critic_Score</th>\n",
       "      <th>Critic_Count</th>\n",
       "      <th>User_Score</th>\n",
       "      <th>User_Count</th>\n",
       "      <th>Score_Bin</th>\n",
       "      <th>bins_sales</th>\n",
       "    </tr>\n",
       "  </thead>\n",
       "  <tbody>\n",
       "    <tr>\n",
       "      <th>1</th>\n",
       "      <td>Super Mario Bros.</td>\n",
       "      <td>NES</td>\n",
       "      <td>1985.0</td>\n",
       "      <td>Platform</td>\n",
       "      <td>Nintendo</td>\n",
       "      <td>29.08</td>\n",
       "      <td>3.58</td>\n",
       "      <td>6.81</td>\n",
       "      <td>0.77</td>\n",
       "      <td>40.24</td>\n",
       "      <td>6.899624</td>\n",
       "      <td>26.437915</td>\n",
       "      <td>7.126783</td>\n",
       "      <td>162.987534</td>\n",
       "      <td>low</td>\n",
       "      <td>high</td>\n",
       "    </tr>\n",
       "    <tr>\n",
       "      <th>2</th>\n",
       "      <td>Mario Kart Wii</td>\n",
       "      <td>Wii</td>\n",
       "      <td>2008.0</td>\n",
       "      <td>Racing</td>\n",
       "      <td>Nintendo</td>\n",
       "      <td>15.68</td>\n",
       "      <td>12.76</td>\n",
       "      <td>3.79</td>\n",
       "      <td>3.29</td>\n",
       "      <td>35.52</td>\n",
       "      <td>8.200000</td>\n",
       "      <td>73.000000</td>\n",
       "      <td>8.300000</td>\n",
       "      <td>709.000000</td>\n",
       "      <td>high</td>\n",
       "      <td>high</td>\n",
       "    </tr>\n",
       "    <tr>\n",
       "      <th>3</th>\n",
       "      <td>Wii Sports Resort</td>\n",
       "      <td>Wii</td>\n",
       "      <td>2009.0</td>\n",
       "      <td>Sports</td>\n",
       "      <td>Nintendo</td>\n",
       "      <td>15.61</td>\n",
       "      <td>10.93</td>\n",
       "      <td>3.28</td>\n",
       "      <td>2.95</td>\n",
       "      <td>32.77</td>\n",
       "      <td>8.000000</td>\n",
       "      <td>73.000000</td>\n",
       "      <td>8.000000</td>\n",
       "      <td>192.000000</td>\n",
       "      <td>high</td>\n",
       "      <td>high</td>\n",
       "    </tr>\n",
       "    <tr>\n",
       "      <th>4</th>\n",
       "      <td>Pokemon Red/Pokemon Blue</td>\n",
       "      <td>GB</td>\n",
       "      <td>1996.0</td>\n",
       "      <td>Role-Playing</td>\n",
       "      <td>Nintendo</td>\n",
       "      <td>11.27</td>\n",
       "      <td>8.89</td>\n",
       "      <td>10.22</td>\n",
       "      <td>1.00</td>\n",
       "      <td>31.37</td>\n",
       "      <td>6.899624</td>\n",
       "      <td>26.437915</td>\n",
       "      <td>7.126783</td>\n",
       "      <td>162.987534</td>\n",
       "      <td>low</td>\n",
       "      <td>high</td>\n",
       "    </tr>\n",
       "    <tr>\n",
       "      <th>5</th>\n",
       "      <td>Tetris</td>\n",
       "      <td>GB</td>\n",
       "      <td>1989.0</td>\n",
       "      <td>Puzzle</td>\n",
       "      <td>Nintendo</td>\n",
       "      <td>23.20</td>\n",
       "      <td>2.26</td>\n",
       "      <td>4.22</td>\n",
       "      <td>0.58</td>\n",
       "      <td>30.26</td>\n",
       "      <td>6.899624</td>\n",
       "      <td>26.437915</td>\n",
       "      <td>7.126783</td>\n",
       "      <td>162.987534</td>\n",
       "      <td>low</td>\n",
       "      <td>high</td>\n",
       "    </tr>\n",
       "  </tbody>\n",
       "</table>\n",
       "</div>"
      ],
      "text/plain": [
       "                       Name Platform  Year_of_Release         Genre Publisher  \\\n",
       "1         Super Mario Bros.      NES           1985.0      Platform  Nintendo   \n",
       "2            Mario Kart Wii      Wii           2008.0        Racing  Nintendo   \n",
       "3         Wii Sports Resort      Wii           2009.0        Sports  Nintendo   \n",
       "4  Pokemon Red/Pokemon Blue       GB           1996.0  Role-Playing  Nintendo   \n",
       "5                    Tetris       GB           1989.0        Puzzle  Nintendo   \n",
       "\n",
       "   NA_Sales  EU_Sales  JP_Sales  Other_Sales  Global_Sales  Critic_Score  \\\n",
       "1     29.08      3.58      6.81         0.77         40.24      6.899624   \n",
       "2     15.68     12.76      3.79         3.29         35.52      8.200000   \n",
       "3     15.61     10.93      3.28         2.95         32.77      8.000000   \n",
       "4     11.27      8.89     10.22         1.00         31.37      6.899624   \n",
       "5     23.20      2.26      4.22         0.58         30.26      6.899624   \n",
       "\n",
       "   Critic_Count  User_Score  User_Count Score_Bin bins_sales  \n",
       "1     26.437915    7.126783  162.987534       low       high  \n",
       "2     73.000000    8.300000  709.000000      high       high  \n",
       "3     73.000000    8.000000  192.000000      high       high  \n",
       "4     26.437915    7.126783  162.987534       low       high  \n",
       "5     26.437915    7.126783  162.987534       low       high  "
      ]
     },
     "execution_count": 50,
     "metadata": {},
     "output_type": "execute_result"
    }
   ],
   "source": [
    "df.head()"
   ]
  },
  {
   "cell_type": "markdown",
   "metadata": {},
   "source": [
    "- dropping any remaining null values"
   ]
  },
  {
   "cell_type": "code",
   "execution_count": 51,
   "metadata": {},
   "outputs": [],
   "source": [
    "df = df.dropna()"
   ]
  },
  {
   "cell_type": "code",
   "execution_count": 52,
   "metadata": {
    "scrolled": false
   },
   "outputs": [
    {
     "name": "stdout",
     "output_type": "stream",
     "text": [
      "<class 'pandas.core.frame.DataFrame'>\n",
      "Int64Index: 15793 entries, 1 to 16080\n",
      "Data columns (total 16 columns):\n",
      " #   Column           Non-Null Count  Dtype   \n",
      "---  ------           --------------  -----   \n",
      " 0   Name             15793 non-null  object  \n",
      " 1   Platform         15793 non-null  object  \n",
      " 2   Year_of_Release  15793 non-null  float64 \n",
      " 3   Genre            15793 non-null  object  \n",
      " 4   Publisher        15793 non-null  object  \n",
      " 5   NA_Sales         15793 non-null  float64 \n",
      " 6   EU_Sales         15793 non-null  float64 \n",
      " 7   JP_Sales         15793 non-null  float64 \n",
      " 8   Other_Sales      15793 non-null  float64 \n",
      " 9   Global_Sales     15793 non-null  float64 \n",
      " 10  Critic_Score     15793 non-null  float64 \n",
      " 11  Critic_Count     15793 non-null  float64 \n",
      " 12  User_Score       15793 non-null  float64 \n",
      " 13  User_Count       15793 non-null  float64 \n",
      " 14  Score_Bin        15793 non-null  category\n",
      " 15  bins_sales       15793 non-null  category\n",
      "dtypes: category(2), float64(10), object(4)\n",
      "memory usage: 1.8+ MB\n"
     ]
    }
   ],
   "source": [
    "df.info()"
   ]
  },
  {
   "cell_type": "code",
   "execution_count": 53,
   "metadata": {},
   "outputs": [
    {
     "data": {
      "text/plain": [
       "high    8056\n",
       "low     7737\n",
       "Name: bins_sales, dtype: int64"
      ]
     },
     "execution_count": 53,
     "metadata": {},
     "output_type": "execute_result"
    }
   ],
   "source": [
    "df['bins_sales'].value_counts()\n"
   ]
  },
  {
   "cell_type": "code",
   "execution_count": 54,
   "metadata": {},
   "outputs": [
    {
     "data": {
      "text/plain": [
       "low     11447\n",
       "high     4346\n",
       "Name: Score_Bin, dtype: int64"
      ]
     },
     "execution_count": 54,
     "metadata": {},
     "output_type": "execute_result"
    }
   ],
   "source": [
    "df['Score_Bin'].value_counts()"
   ]
  },
  {
   "cell_type": "code",
   "execution_count": 55,
   "metadata": {
    "scrolled": true
   },
   "outputs": [
    {
     "data": {
      "text/plain": [
       "True     8468\n",
       "False    7325\n",
       "Name: User_Score, dtype: int64"
      ]
     },
     "execution_count": 55,
     "metadata": {},
     "output_type": "execute_result"
    }
   ],
   "source": [
    "K= df['User_Score']==7.126782841823057\n",
    "K.value_counts()"
   ]
  },
  {
   "cell_type": "markdown",
   "metadata": {},
   "source": [
    " - Next is dummifying Platform Column to convert string values to binary values. "
   ]
  },
  {
   "cell_type": "code",
   "execution_count": 56,
   "metadata": {
    "scrolled": true
   },
   "outputs": [
    {
     "data": {
      "text/html": [
       "<div>\n",
       "<style scoped>\n",
       "    .dataframe tbody tr th:only-of-type {\n",
       "        vertical-align: middle;\n",
       "    }\n",
       "\n",
       "    .dataframe tbody tr th {\n",
       "        vertical-align: top;\n",
       "    }\n",
       "\n",
       "    .dataframe thead th {\n",
       "        text-align: right;\n",
       "    }\n",
       "</style>\n",
       "<table border=\"1\" class=\"dataframe\">\n",
       "  <thead>\n",
       "    <tr style=\"text-align: right;\">\n",
       "      <th></th>\n",
       "      <th>Name</th>\n",
       "      <th>Year_of_Release</th>\n",
       "      <th>Genre</th>\n",
       "      <th>Publisher</th>\n",
       "      <th>NA_Sales</th>\n",
       "      <th>EU_Sales</th>\n",
       "      <th>JP_Sales</th>\n",
       "      <th>Other_Sales</th>\n",
       "      <th>Global_Sales</th>\n",
       "      <th>Critic_Score</th>\n",
       "      <th>...</th>\n",
       "      <th>Platform_SAT</th>\n",
       "      <th>Platform_SCD</th>\n",
       "      <th>Platform_SNES</th>\n",
       "      <th>Platform_TG16</th>\n",
       "      <th>Platform_WS</th>\n",
       "      <th>Platform_Wii</th>\n",
       "      <th>Platform_WiiU</th>\n",
       "      <th>Platform_X360</th>\n",
       "      <th>Platform_XB</th>\n",
       "      <th>Platform_XOne</th>\n",
       "    </tr>\n",
       "  </thead>\n",
       "  <tbody>\n",
       "    <tr>\n",
       "      <th>1</th>\n",
       "      <td>Super Mario Bros.</td>\n",
       "      <td>1985.0</td>\n",
       "      <td>Platform</td>\n",
       "      <td>Nintendo</td>\n",
       "      <td>29.08</td>\n",
       "      <td>3.58</td>\n",
       "      <td>6.81</td>\n",
       "      <td>0.77</td>\n",
       "      <td>40.24</td>\n",
       "      <td>6.899624</td>\n",
       "      <td>...</td>\n",
       "      <td>0</td>\n",
       "      <td>0</td>\n",
       "      <td>0</td>\n",
       "      <td>0</td>\n",
       "      <td>0</td>\n",
       "      <td>0</td>\n",
       "      <td>0</td>\n",
       "      <td>0</td>\n",
       "      <td>0</td>\n",
       "      <td>0</td>\n",
       "    </tr>\n",
       "    <tr>\n",
       "      <th>2</th>\n",
       "      <td>Mario Kart Wii</td>\n",
       "      <td>2008.0</td>\n",
       "      <td>Racing</td>\n",
       "      <td>Nintendo</td>\n",
       "      <td>15.68</td>\n",
       "      <td>12.76</td>\n",
       "      <td>3.79</td>\n",
       "      <td>3.29</td>\n",
       "      <td>35.52</td>\n",
       "      <td>8.200000</td>\n",
       "      <td>...</td>\n",
       "      <td>0</td>\n",
       "      <td>0</td>\n",
       "      <td>0</td>\n",
       "      <td>0</td>\n",
       "      <td>0</td>\n",
       "      <td>1</td>\n",
       "      <td>0</td>\n",
       "      <td>0</td>\n",
       "      <td>0</td>\n",
       "      <td>0</td>\n",
       "    </tr>\n",
       "    <tr>\n",
       "      <th>3</th>\n",
       "      <td>Wii Sports Resort</td>\n",
       "      <td>2009.0</td>\n",
       "      <td>Sports</td>\n",
       "      <td>Nintendo</td>\n",
       "      <td>15.61</td>\n",
       "      <td>10.93</td>\n",
       "      <td>3.28</td>\n",
       "      <td>2.95</td>\n",
       "      <td>32.77</td>\n",
       "      <td>8.000000</td>\n",
       "      <td>...</td>\n",
       "      <td>0</td>\n",
       "      <td>0</td>\n",
       "      <td>0</td>\n",
       "      <td>0</td>\n",
       "      <td>0</td>\n",
       "      <td>1</td>\n",
       "      <td>0</td>\n",
       "      <td>0</td>\n",
       "      <td>0</td>\n",
       "      <td>0</td>\n",
       "    </tr>\n",
       "    <tr>\n",
       "      <th>4</th>\n",
       "      <td>Pokemon Red/Pokemon Blue</td>\n",
       "      <td>1996.0</td>\n",
       "      <td>Role-Playing</td>\n",
       "      <td>Nintendo</td>\n",
       "      <td>11.27</td>\n",
       "      <td>8.89</td>\n",
       "      <td>10.22</td>\n",
       "      <td>1.00</td>\n",
       "      <td>31.37</td>\n",
       "      <td>6.899624</td>\n",
       "      <td>...</td>\n",
       "      <td>0</td>\n",
       "      <td>0</td>\n",
       "      <td>0</td>\n",
       "      <td>0</td>\n",
       "      <td>0</td>\n",
       "      <td>0</td>\n",
       "      <td>0</td>\n",
       "      <td>0</td>\n",
       "      <td>0</td>\n",
       "      <td>0</td>\n",
       "    </tr>\n",
       "    <tr>\n",
       "      <th>5</th>\n",
       "      <td>Tetris</td>\n",
       "      <td>1989.0</td>\n",
       "      <td>Puzzle</td>\n",
       "      <td>Nintendo</td>\n",
       "      <td>23.20</td>\n",
       "      <td>2.26</td>\n",
       "      <td>4.22</td>\n",
       "      <td>0.58</td>\n",
       "      <td>30.26</td>\n",
       "      <td>6.899624</td>\n",
       "      <td>...</td>\n",
       "      <td>0</td>\n",
       "      <td>0</td>\n",
       "      <td>0</td>\n",
       "      <td>0</td>\n",
       "      <td>0</td>\n",
       "      <td>0</td>\n",
       "      <td>0</td>\n",
       "      <td>0</td>\n",
       "      <td>0</td>\n",
       "      <td>0</td>\n",
       "    </tr>\n",
       "    <tr>\n",
       "      <th>...</th>\n",
       "      <td>...</td>\n",
       "      <td>...</td>\n",
       "      <td>...</td>\n",
       "      <td>...</td>\n",
       "      <td>...</td>\n",
       "      <td>...</td>\n",
       "      <td>...</td>\n",
       "      <td>...</td>\n",
       "      <td>...</td>\n",
       "      <td>...</td>\n",
       "      <td>...</td>\n",
       "      <td>...</td>\n",
       "      <td>...</td>\n",
       "      <td>...</td>\n",
       "      <td>...</td>\n",
       "      <td>...</td>\n",
       "      <td>...</td>\n",
       "      <td>...</td>\n",
       "      <td>...</td>\n",
       "      <td>...</td>\n",
       "      <td>...</td>\n",
       "    </tr>\n",
       "    <tr>\n",
       "      <th>16076</th>\n",
       "      <td>Evil Genius</td>\n",
       "      <td>2004.0</td>\n",
       "      <td>Strategy</td>\n",
       "      <td>Vivendi Games</td>\n",
       "      <td>0.00</td>\n",
       "      <td>0.01</td>\n",
       "      <td>0.00</td>\n",
       "      <td>0.00</td>\n",
       "      <td>0.02</td>\n",
       "      <td>7.500000</td>\n",
       "      <td>...</td>\n",
       "      <td>0</td>\n",
       "      <td>0</td>\n",
       "      <td>0</td>\n",
       "      <td>0</td>\n",
       "      <td>0</td>\n",
       "      <td>0</td>\n",
       "      <td>0</td>\n",
       "      <td>0</td>\n",
       "      <td>0</td>\n",
       "      <td>0</td>\n",
       "    </tr>\n",
       "    <tr>\n",
       "      <th>16077</th>\n",
       "      <td>Ouran Koukou Host Bu</td>\n",
       "      <td>2007.0</td>\n",
       "      <td>Adventure</td>\n",
       "      <td>Idea Factory</td>\n",
       "      <td>0.00</td>\n",
       "      <td>0.00</td>\n",
       "      <td>0.02</td>\n",
       "      <td>0.00</td>\n",
       "      <td>0.02</td>\n",
       "      <td>6.899624</td>\n",
       "      <td>...</td>\n",
       "      <td>0</td>\n",
       "      <td>0</td>\n",
       "      <td>0</td>\n",
       "      <td>0</td>\n",
       "      <td>0</td>\n",
       "      <td>0</td>\n",
       "      <td>0</td>\n",
       "      <td>0</td>\n",
       "      <td>0</td>\n",
       "      <td>0</td>\n",
       "    </tr>\n",
       "    <tr>\n",
       "      <th>16078</th>\n",
       "      <td>King's Quest: The Complete Collection</td>\n",
       "      <td>2016.0</td>\n",
       "      <td>Adventure</td>\n",
       "      <td>Activision</td>\n",
       "      <td>0.01</td>\n",
       "      <td>0.00</td>\n",
       "      <td>0.00</td>\n",
       "      <td>0.00</td>\n",
       "      <td>0.02</td>\n",
       "      <td>6.899624</td>\n",
       "      <td>...</td>\n",
       "      <td>0</td>\n",
       "      <td>0</td>\n",
       "      <td>0</td>\n",
       "      <td>0</td>\n",
       "      <td>0</td>\n",
       "      <td>0</td>\n",
       "      <td>0</td>\n",
       "      <td>0</td>\n",
       "      <td>0</td>\n",
       "      <td>0</td>\n",
       "    </tr>\n",
       "    <tr>\n",
       "      <th>16079</th>\n",
       "      <td>Lotus Challenge</td>\n",
       "      <td>2004.0</td>\n",
       "      <td>Racing</td>\n",
       "      <td>Ignition Entertainment</td>\n",
       "      <td>0.01</td>\n",
       "      <td>0.00</td>\n",
       "      <td>0.00</td>\n",
       "      <td>0.00</td>\n",
       "      <td>0.02</td>\n",
       "      <td>6.899624</td>\n",
       "      <td>...</td>\n",
       "      <td>0</td>\n",
       "      <td>0</td>\n",
       "      <td>0</td>\n",
       "      <td>0</td>\n",
       "      <td>0</td>\n",
       "      <td>0</td>\n",
       "      <td>0</td>\n",
       "      <td>0</td>\n",
       "      <td>0</td>\n",
       "      <td>0</td>\n",
       "    </tr>\n",
       "    <tr>\n",
       "      <th>16080</th>\n",
       "      <td>Imperium Romanum</td>\n",
       "      <td>2008.0</td>\n",
       "      <td>Strategy</td>\n",
       "      <td>Kalypso Media</td>\n",
       "      <td>0.00</td>\n",
       "      <td>0.01</td>\n",
       "      <td>0.00</td>\n",
       "      <td>0.00</td>\n",
       "      <td>0.02</td>\n",
       "      <td>6.300000</td>\n",
       "      <td>...</td>\n",
       "      <td>0</td>\n",
       "      <td>0</td>\n",
       "      <td>0</td>\n",
       "      <td>0</td>\n",
       "      <td>0</td>\n",
       "      <td>0</td>\n",
       "      <td>0</td>\n",
       "      <td>0</td>\n",
       "      <td>0</td>\n",
       "      <td>0</td>\n",
       "    </tr>\n",
       "  </tbody>\n",
       "</table>\n",
       "<p>15793 rows × 45 columns</p>\n",
       "</div>"
      ],
      "text/plain": [
       "                                        Name  Year_of_Release         Genre  \\\n",
       "1                          Super Mario Bros.           1985.0      Platform   \n",
       "2                             Mario Kart Wii           2008.0        Racing   \n",
       "3                          Wii Sports Resort           2009.0        Sports   \n",
       "4                   Pokemon Red/Pokemon Blue           1996.0  Role-Playing   \n",
       "5                                     Tetris           1989.0        Puzzle   \n",
       "...                                      ...              ...           ...   \n",
       "16076                            Evil Genius           2004.0      Strategy   \n",
       "16077                   Ouran Koukou Host Bu           2007.0     Adventure   \n",
       "16078  King's Quest: The Complete Collection           2016.0     Adventure   \n",
       "16079                        Lotus Challenge           2004.0        Racing   \n",
       "16080                       Imperium Romanum           2008.0      Strategy   \n",
       "\n",
       "                    Publisher  NA_Sales  EU_Sales  JP_Sales  Other_Sales  \\\n",
       "1                    Nintendo     29.08      3.58      6.81         0.77   \n",
       "2                    Nintendo     15.68     12.76      3.79         3.29   \n",
       "3                    Nintendo     15.61     10.93      3.28         2.95   \n",
       "4                    Nintendo     11.27      8.89     10.22         1.00   \n",
       "5                    Nintendo     23.20      2.26      4.22         0.58   \n",
       "...                       ...       ...       ...       ...          ...   \n",
       "16076           Vivendi Games      0.00      0.01      0.00         0.00   \n",
       "16077            Idea Factory      0.00      0.00      0.02         0.00   \n",
       "16078              Activision      0.01      0.00      0.00         0.00   \n",
       "16079  Ignition Entertainment      0.01      0.00      0.00         0.00   \n",
       "16080           Kalypso Media      0.00      0.01      0.00         0.00   \n",
       "\n",
       "       Global_Sales  Critic_Score  ...  Platform_SAT  Platform_SCD  \\\n",
       "1             40.24      6.899624  ...             0             0   \n",
       "2             35.52      8.200000  ...             0             0   \n",
       "3             32.77      8.000000  ...             0             0   \n",
       "4             31.37      6.899624  ...             0             0   \n",
       "5             30.26      6.899624  ...             0             0   \n",
       "...             ...           ...  ...           ...           ...   \n",
       "16076          0.02      7.500000  ...             0             0   \n",
       "16077          0.02      6.899624  ...             0             0   \n",
       "16078          0.02      6.899624  ...             0             0   \n",
       "16079          0.02      6.899624  ...             0             0   \n",
       "16080          0.02      6.300000  ...             0             0   \n",
       "\n",
       "       Platform_SNES Platform_TG16 Platform_WS  Platform_Wii  Platform_WiiU  \\\n",
       "1                  0             0           0             0              0   \n",
       "2                  0             0           0             1              0   \n",
       "3                  0             0           0             1              0   \n",
       "4                  0             0           0             0              0   \n",
       "5                  0             0           0             0              0   \n",
       "...              ...           ...         ...           ...            ...   \n",
       "16076              0             0           0             0              0   \n",
       "16077              0             0           0             0              0   \n",
       "16078              0             0           0             0              0   \n",
       "16079              0             0           0             0              0   \n",
       "16080              0             0           0             0              0   \n",
       "\n",
       "       Platform_X360  Platform_XB  Platform_XOne  \n",
       "1                  0            0              0  \n",
       "2                  0            0              0  \n",
       "3                  0            0              0  \n",
       "4                  0            0              0  \n",
       "5                  0            0              0  \n",
       "...              ...          ...            ...  \n",
       "16076              0            0              0  \n",
       "16077              0            0              0  \n",
       "16078              0            0              0  \n",
       "16079              0            0              0  \n",
       "16080              0            0              0  \n",
       "\n",
       "[15793 rows x 45 columns]"
      ]
     },
     "execution_count": 56,
     "metadata": {},
     "output_type": "execute_result"
    }
   ],
   "source": [
    "df = pd.get_dummies(df, columns=['Platform'], drop_first=True)\n",
    "df"
   ]
  },
  {
   "cell_type": "code",
   "execution_count": 57,
   "metadata": {},
   "outputs": [],
   "source": [
    "df.replace(to_replace='high', value=1, inplace=True) \n",
    "df.replace(to_replace='low', value=0, inplace=True) \n"
   ]
  },
  {
   "cell_type": "code",
   "execution_count": 58,
   "metadata": {
    "scrolled": true
   },
   "outputs": [
    {
     "data": {
      "text/plain": [
       "1        1\n",
       "2        1\n",
       "3        1\n",
       "4        1\n",
       "5        1\n",
       "        ..\n",
       "16076    0\n",
       "16077    0\n",
       "16078    0\n",
       "16079    0\n",
       "16080    0\n",
       "Name: bins_sales, Length: 15793, dtype: category\n",
       "Categories (2, int64): [0 < 1]"
      ]
     },
     "execution_count": 58,
     "metadata": {},
     "output_type": "execute_result"
    }
   ],
   "source": [
    "df['bins_sales']"
   ]
  },
  {
   "cell_type": "code",
   "execution_count": 59,
   "metadata": {
    "scrolled": true
   },
   "outputs": [
    {
     "name": "stdout",
     "output_type": "stream",
     "text": [
      "<class 'pandas.core.frame.DataFrame'>\n",
      "Int64Index: 15793 entries, 1 to 16080\n",
      "Data columns (total 45 columns):\n",
      " #   Column           Non-Null Count  Dtype   \n",
      "---  ------           --------------  -----   \n",
      " 0   Name             15793 non-null  object  \n",
      " 1   Year_of_Release  15793 non-null  float64 \n",
      " 2   Genre            15793 non-null  object  \n",
      " 3   Publisher        15793 non-null  object  \n",
      " 4   NA_Sales         15793 non-null  float64 \n",
      " 5   EU_Sales         15793 non-null  float64 \n",
      " 6   JP_Sales         15793 non-null  float64 \n",
      " 7   Other_Sales      15793 non-null  float64 \n",
      " 8   Global_Sales     15793 non-null  float64 \n",
      " 9   Critic_Score     15793 non-null  float64 \n",
      " 10  Critic_Count     15793 non-null  float64 \n",
      " 11  User_Score       15793 non-null  float64 \n",
      " 12  User_Count       15793 non-null  float64 \n",
      " 13  Score_Bin        15793 non-null  category\n",
      " 14  bins_sales       15793 non-null  category\n",
      " 15  Platform_3DO     15793 non-null  uint8   \n",
      " 16  Platform_3DS     15793 non-null  uint8   \n",
      " 17  Platform_DC      15793 non-null  uint8   \n",
      " 18  Platform_DS      15793 non-null  uint8   \n",
      " 19  Platform_GB      15793 non-null  uint8   \n",
      " 20  Platform_GBA     15793 non-null  uint8   \n",
      " 21  Platform_GC      15793 non-null  uint8   \n",
      " 22  Platform_GEN     15793 non-null  uint8   \n",
      " 23  Platform_GG      15793 non-null  uint8   \n",
      " 24  Platform_N64     15793 non-null  uint8   \n",
      " 25  Platform_NES     15793 non-null  uint8   \n",
      " 26  Platform_NG      15793 non-null  uint8   \n",
      " 27  Platform_PC      15793 non-null  uint8   \n",
      " 28  Platform_PCFX    15793 non-null  uint8   \n",
      " 29  Platform_PS      15793 non-null  uint8   \n",
      " 30  Platform_PS2     15793 non-null  uint8   \n",
      " 31  Platform_PS3     15793 non-null  uint8   \n",
      " 32  Platform_PS4     15793 non-null  uint8   \n",
      " 33  Platform_PSP     15793 non-null  uint8   \n",
      " 34  Platform_PSV     15793 non-null  uint8   \n",
      " 35  Platform_SAT     15793 non-null  uint8   \n",
      " 36  Platform_SCD     15793 non-null  uint8   \n",
      " 37  Platform_SNES    15793 non-null  uint8   \n",
      " 38  Platform_TG16    15793 non-null  uint8   \n",
      " 39  Platform_WS      15793 non-null  uint8   \n",
      " 40  Platform_Wii     15793 non-null  uint8   \n",
      " 41  Platform_WiiU    15793 non-null  uint8   \n",
      " 42  Platform_X360    15793 non-null  uint8   \n",
      " 43  Platform_XB      15793 non-null  uint8   \n",
      " 44  Platform_XOne    15793 non-null  uint8   \n",
      "dtypes: category(2), float64(10), object(3), uint8(30)\n",
      "memory usage: 2.2+ MB\n"
     ]
    }
   ],
   "source": [
    "df.info()"
   ]
  },
  {
   "cell_type": "markdown",
   "metadata": {},
   "source": [
    "# Pre-Processing"
   ]
  },
  {
   "cell_type": "markdown",
   "metadata": {},
   "source": [
    "\n",
    "##  TRAIN TEST SPLIT"
   ]
  },
  {
   "cell_type": "code",
   "execution_count": 60,
   "metadata": {},
   "outputs": [],
   "source": [
    "X = df.drop(['bins_sales','Publisher','Name','EU_Sales','NA_Sales'], axis=1)\n",
    "y = df['bins_sales']\n",
    "X_train, X_test, y_train, y_test = train_test_split(X, y, test_size=0.25, random_state=15) \n",
    "\n",
    "#Scale data\n",
    "#scale = StandardScaler()\n",
    "#x_train_scaled = scale.fit_transform(x_train)\n",
    "#x_test_scaled = scale.transform(x_test)\n",
    "\n"
   ]
  },
  {
   "cell_type": "code",
   "execution_count": null,
   "metadata": {},
   "outputs": [],
   "source": []
  },
  {
   "cell_type": "code",
   "execution_count": 61,
   "metadata": {},
   "outputs": [
    {
     "data": {
      "text/plain": [
       "1    6018\n",
       "0    5826\n",
       "Name: bins_sales, dtype: int64"
      ]
     },
     "execution_count": 61,
     "metadata": {},
     "output_type": "execute_result"
    }
   ],
   "source": [
    "y_train.value_counts()"
   ]
  },
  {
   "cell_type": "code",
   "execution_count": 62,
   "metadata": {},
   "outputs": [
    {
     "name": "stdout",
     "output_type": "stream",
     "text": [
      "(15793, 40)\n",
      "(15793,)\n"
     ]
    }
   ],
   "source": [
    "print(X.shape)\n",
    "print(y.shape)"
   ]
  },
  {
   "cell_type": "markdown",
   "metadata": {},
   "source": [
    "## ONE HOT ENCODE (GENRE AND USER_SCORE BIN COLUMN)"
   ]
  },
  {
   "cell_type": "markdown",
   "metadata": {},
   "source": [
    "- Below is a function for onehotencoding the categorical columns in my dataset. Genre."
   ]
  },
  {
   "cell_type": "code",
   "execution_count": 63,
   "metadata": {},
   "outputs": [],
   "source": [
    "def OHE(X_train, categories):\n",
    "    onehot = OneHotEncoder(sparse=False, handle_unknown = 'ignore')\n",
    "    x_train_cat = pd.DataFrame(onehot.fit_transform(X_train[categories]))\n",
    "    x_train_cat.columns = onehot.get_feature_names(categories)\n",
    "    # Reset indices to avoid merging conflicts\n",
    "    x_train_cat.reset_index(drop=True, inplace=True)\n",
    "    X_train.reset_index(drop=True, inplace=True)\n",
    "    # Joined the OHE dataframe to the dataframe that is passed into the function\n",
    "    x_train_df = X_train.drop(categories, axis = 1).join(x_train_cat)\n",
    "    return x_train_df"
   ]
  },
  {
   "cell_type": "code",
   "execution_count": 64,
   "metadata": {},
   "outputs": [],
   "source": [
    "X_train_encode = OHE(X_train,['Genre'])\n",
    "X_test_encode = OHE(X_test,['Genre'])"
   ]
  },
  {
   "cell_type": "code",
   "execution_count": null,
   "metadata": {},
   "outputs": [],
   "source": []
  },
  {
   "cell_type": "markdown",
   "metadata": {},
   "source": [
    "## SCALE "
   ]
  },
  {
   "cell_type": "code",
   "execution_count": 65,
   "metadata": {},
   "outputs": [],
   "source": [
    "#Scale data\n",
    "scale = StandardScaler()\n",
    "X_train_scaled = scale.fit_transform(X_train_encode)\n",
    "X_test_scaled = scale.transform(X_test_encode)"
   ]
  },
  {
   "cell_type": "code",
   "execution_count": 66,
   "metadata": {
    "scrolled": false
   },
   "outputs": [
    {
     "data": {
      "text/plain": [
       "1    6018\n",
       "0    5826\n",
       "Name: bins_sales, dtype: int64"
      ]
     },
     "execution_count": 66,
     "metadata": {},
     "output_type": "execute_result"
    }
   ],
   "source": [
    "y_train.value_counts()"
   ]
  },
  {
   "cell_type": "code",
   "execution_count": null,
   "metadata": {},
   "outputs": [],
   "source": []
  },
  {
   "cell_type": "code",
   "execution_count": 67,
   "metadata": {},
   "outputs": [
    {
     "data": {
      "text/plain": [
       "1    6018\n",
       "0    5826\n",
       "Name: bins_sales, dtype: int64"
      ]
     },
     "execution_count": 67,
     "metadata": {},
     "output_type": "execute_result"
    }
   ],
   "source": [
    "y_train.value_counts()"
   ]
  },
  {
   "cell_type": "markdown",
   "metadata": {
    "scrolled": true
   },
   "source": [
    "- Next is the modeling Process. I WILL BE TESTING FOR F1 Score. Due to this being a more balanced evaluation metric. "
   ]
  },
  {
   "cell_type": "markdown",
   "metadata": {},
   "source": [
    " # MODELING"
   ]
  },
  {
   "cell_type": "markdown",
   "metadata": {},
   "source": [
    "## Dummy Baseline  Model"
   ]
  },
  {
   "cell_type": "code",
   "execution_count": 68,
   "metadata": {
    "scrolled": true
   },
   "outputs": [
    {
     "name": "stdout",
     "output_type": "stream",
     "text": [
      "0.6738327175008397\n",
      "0.6808084182395189\n"
     ]
    },
    {
     "data": {
      "image/png": "[encoded data removed]",
      "text/plain": [
       "<Figure size 432x288 with 2 Axes>"
      ]
     },
     "metadata": {
      "needs_background": "light"
     },
     "output_type": "display_data"
    },
    {
     "data": {
      "image/png": "[encoded data removed]",
      "text/plain": [
       "<Figure size 432x288 with 1 Axes>"
      ]
     },
     "metadata": {
      "needs_background": "light"
     },
     "output_type": "display_data"
    }
   ],
   "source": [
    "\n",
    "dummy_model = DummyClassifier(strategy=\"most_frequent\")\n",
    "dummy_model.fit(X_train_scaled, y_train)\n",
    "y_hat_train = dummy_model.predict(X_train_scaled)\n",
    "y_hat_test = dummy_model.predict(X_test_scaled)\n",
    "print(f1_score(y_train, y_hat_train, average= 'binary'))\n",
    "print(f1_score(y_test, y_hat_test, average= 'binary'))\n",
    "plot_confusion_matrix(dummy_model, X_test_scaled, y_test)\n",
    "plot_roc_curve(dummy_model, X_test_scaled, y_test);"
   ]
  },
  {
   "cell_type": "markdown",
   "metadata": {},
   "source": [
    "- I started with a DummyClassifier baseline model. This will be the first model and I will work to find models that outpreform this one. \n",
    "- about 68% score on acounting for  False Positives and  anf False Negatives\n",
    "\n",
    "- AUC score of .5.  We want a AUC higher than this and closer to 1. "
   ]
  },
  {
   "cell_type": "markdown",
   "metadata": {},
   "source": [
    "# Decsion Tree Classifer"
   ]
  },
  {
   "cell_type": "code",
   "execution_count": 69,
   "metadata": {},
   "outputs": [
    {
     "name": "stdout",
     "output_type": "stream",
     "text": [
      "Train 1.0\n",
      "Test 1.0\n"
     ]
    },
    {
     "data": {
      "image/png": "[encoded data removed]",
      "text/plain": [
       "<Figure size 432x288 with 2 Axes>"
      ]
     },
     "metadata": {
      "needs_background": "light"
     },
     "output_type": "display_data"
    },
    {
     "data": {
      "image/png": "[encoded data removed]",
      "text/plain": [
       "<Figure size 432x288 with 1 Axes>"
      ]
     },
     "metadata": {
      "needs_background": "light"
     },
     "output_type": "display_data"
    },
    {
     "data": {
      "image/png": "[encoded data removed]",
      "text/plain": [
       "<Figure size 1440x360 with 1 Axes>"
      ]
     },
     "metadata": {
      "needs_background": "light"
     },
     "output_type": "display_data"
    },
    {
     "data": {
      "image/png": "[encoded data removed]",
      "text/plain": [
       "<Figure size 1440x720 with 1 Axes>"
      ]
     },
     "metadata": {
      "needs_background": "light"
     },
     "output_type": "display_data"
    }
   ],
   "source": [
    "# Instantiated, fit, and ran basic decision tree model\n",
    "clf = DecisionTreeClassifier(max_depth = 6) \n",
    "clf.fit(X_train_scaled, y_train)\n",
    "y_hat_train = clf.predict(X_train_scaled)\n",
    "y_hat_test = clf.predict(X_test_scaled)\n",
    "print(f'Train {f1_score(y_train, y_hat_train)}')\n",
    "print(f'Test {f1_score(y_test, y_hat_test)}')\n",
    "\n",
    "# Plotted confusion matrix and ROC AUC for basic decision tree model\n",
    "plot_confusion_matrix(clf, X_test_scaled, y_test);\n",
    "plot_roc_curve(clf, X_test_scaled, y_test);\n",
    "\n",
    "# Plotted feature importance for basic decision tree model\n",
    "ranking = clf.feature_importances_\n",
    "fig, ax = plt.subplots(figsize=(20,5))\n",
    "pd.Series(ranking).plot.bar(ax=ax);\n",
    "\n",
    "# Plotted basic decision tree model\n",
    "f, ax = plt.subplots(figsize=(20, 10))\n",
    "plot_tree(clf);"
   ]
  },
  {
   "cell_type": "markdown",
   "metadata": {},
   "source": [
    "- Ran a Decision Tree Classifier with a max depth 6.\n",
    "- No False Negatives and False Positives in the model.\n",
    "- A perfect 1 F1 score on Train and Test.\n",
    "- This model may be overfitting. "
   ]
  },
  {
   "cell_type": "markdown",
   "metadata": {},
   "source": [
    "## Logistic Regression"
   ]
  },
  {
   "cell_type": "code",
   "execution_count": 78,
   "metadata": {
    "scrolled": false
   },
   "outputs": [
    {
     "name": "stdout",
     "output_type": "stream",
     "text": [
      "Train 0.9739159891598916\n",
      "Test 0.9752438109527382\n",
      "[[8.72137622e-01 1.90766777e+01 2.46455493e+05 9.93852729e+12\n",
      "  1.04138638e+00 1.03834315e+00 9.50767768e-01 1.04024713e+00\n",
      "  1.18364264e+00 9.37372866e-01 8.75798996e-01 9.24289527e-01\n",
      "  7.58695395e-01 9.31180949e-01 1.01967300e+00 9.42928978e-01\n",
      "  9.32709066e-01 9.54559185e-01 1.04411661e+00 9.52446889e-01\n",
      "  9.67402411e-01 7.65313263e-01 9.57654908e-01 7.55515270e-01\n",
      "  6.81548630e-01 7.63516281e-01 8.35612482e-01 7.35942341e-01\n",
      "  7.93547691e-01 8.56104068e-01 9.01395617e-01 8.82706045e-01\n",
      "  9.60045529e-01 9.83798641e-01 8.88271693e-01 9.61938669e-01\n",
      "  8.77893022e-01 9.32508402e-01 9.61841054e-01 1.02923764e+00\n",
      "  9.56341053e-01 9.72926956e-01 1.03704430e+00 1.00654410e+00\n",
      "  9.34472968e-01 1.00807636e+00 1.01001433e+00 9.71586768e-01\n",
      "  1.02996316e+00 1.02621334e+00 9.67038697e-01]]\n"
     ]
    },
    {
     "name": "stderr",
     "output_type": "stream",
     "text": [
      "/Users/olamideholayinka/opt/anaconda3/envs/learn-env/lib/python3.8/site-packages/sklearn/linear_model/_logistic.py:762: ConvergenceWarning: lbfgs failed to converge (status=1):\n",
      "STOP: TOTAL NO. of ITERATIONS REACHED LIMIT.\n",
      "\n",
      "Increase the number of iterations (max_iter) or scale the data as shown in:\n",
      "    https://scikit-learn.org/stable/modules/preprocessing.html\n",
      "Please also refer to the documentation for alternative solver options:\n",
      "    https://scikit-learn.org/stable/modules/linear_model.html#logistic-regression\n",
      "  n_iter_i = _check_optimize_result(\n"
     ]
    },
    {
     "data": {
      "image/png": "[encoded data removed]",
      "text/plain": [
       "<Figure size 432x288 with 2 Axes>"
      ]
     },
     "metadata": {
      "needs_background": "light"
     },
     "output_type": "display_data"
    },
    {
     "data": {
      "image/png": "[encoded data removed]",
      "text/plain": [
       "<Figure size 432x288 with 1 Axes>"
      ]
     },
     "metadata": {
      "needs_background": "light"
     },
     "output_type": "display_data"
    }
   ],
   "source": [
    "lr = LogisticRegression()\n",
    "lr.fit(X_train_scaled, y_train)\n",
    "y_hat_train = lr.predict(X_train_scaled) \n",
    "y_hat_test = lr.predict(X_test_scaled) \n",
    "print(f'Train {f1_score(y_train, y_hat_train)}')\n",
    "print(f'Test {f1_score(y_test, y_hat_test)}')\n",
    "\n",
    "# Feature coefficients converted to odds ratios\n",
    "print(np.exp(lr.coef_))\n",
    "\n",
    "# Plotted confusion matrix and ROC AUC for basic logistic regression model\n",
    "plot_confusion_matrix(lr, X_test_scaled, y_test)\n",
    "plot_roc_curve(lr, X_test_scaled, y_test);\n"
   ]
  },
  {
   "cell_type": "markdown",
   "metadata": {},
   "source": [
    "Logisitc Regression Model withought hyperparameter adjustments. \n",
    "This scored a 1 AUC score.\n",
    "In additon a 97% score on TRain and Test F1-score.\n",
    "Few false positives and false negatives in this model."
   ]
  },
  {
   "cell_type": "markdown",
   "metadata": {},
   "source": [
    " ## NAIVE BEYES"
   ]
  },
  {
   "cell_type": "code",
   "execution_count": 71,
   "metadata": {},
   "outputs": [
    {
     "data": {
      "text/plain": [
       "GaussianNB(priors=[0.5, 0.5])"
      ]
     },
     "execution_count": 71,
     "metadata": {},
     "output_type": "execute_result"
    }
   ],
   "source": [
    "gnb = GaussianNB(priors=[1/2, 1/2])\n",
    "gnb.fit(X_train_scaled, y_train)"
   ]
  },
  {
   "cell_type": "code",
   "execution_count": 72,
   "metadata": {},
   "outputs": [
    {
     "data": {
      "text/plain": [
       "0.539630286148392"
      ]
     },
     "execution_count": 72,
     "metadata": {},
     "output_type": "execute_result"
    }
   ],
   "source": [
    "gnb.score(X_test_scaled, y_test)"
   ]
  },
  {
   "cell_type": "code",
   "execution_count": 73,
   "metadata": {
    "scrolled": false
   },
   "outputs": [
    {
     "data": {
      "image/png": "[encoded data removed]",
      "text/plain": [
       "<Figure size 432x288 with 2 Axes>"
      ]
     },
     "metadata": {
      "needs_background": "light"
     },
     "output_type": "display_data"
    },
    {
     "data": {
      "image/png": "[encoded data removed]",
      "text/plain": [
       "<Figure size 432x288 with 1 Axes>"
      ]
     },
     "metadata": {
      "needs_background": "light"
     },
     "output_type": "display_data"
    }
   ],
   "source": [
    "plot_confusion_matrix(gnb, X_test_scaled, y_test);\n",
    "plot_roc_curve(gnb, X_test_scaled, y_test);"
   ]
  },
  {
   "cell_type": "markdown",
   "metadata": {},
   "source": [
    "- Next was a Naive Bayes Classifier \n",
    "- The accuracy score on this was a 53% which is not great. \n",
    "- Alot of false positives in this model.\n",
    "- AUC score of .86. which is close to 1. So the model is distingushing between classes fairly well."
   ]
  },
  {
   "cell_type": "markdown",
   "metadata": {},
   "source": [
    "## Random Tree Classifier"
   ]
  },
  {
   "cell_type": "code",
   "execution_count": 74,
   "metadata": {
    "scrolled": false
   },
   "outputs": [
    {
     "name": "stdout",
     "output_type": "stream",
     "text": [
      "Train:               precision    recall  f1-score   support\n",
      "\n",
      "           0       1.00      1.00      1.00      5826\n",
      "           1       1.00      1.00      1.00      6018\n",
      "\n",
      "    accuracy                           1.00     11844\n",
      "   macro avg       1.00      1.00      1.00     11844\n",
      "weighted avg       1.00      1.00      1.00     11844\n",
      "\n",
      "Test:               precision    recall  f1-score   support\n",
      "\n",
      "           0       1.00      1.00      1.00      1911\n",
      "           1       1.00      1.00      1.00      2038\n",
      "\n",
      "    accuracy                           1.00      3949\n",
      "   macro avg       1.00      1.00      1.00      3949\n",
      "weighted avg       1.00      1.00      1.00      3949\n",
      "\n"
     ]
    },
    {
     "data": {
      "image/png": "[encoded data removed]",
      "text/plain": [
       "<Figure size 432x288 with 2 Axes>"
      ]
     },
     "metadata": {
      "needs_background": "light"
     },
     "output_type": "display_data"
    },
    {
     "data": {
      "image/png": "[encoded data removed]",
      "text/plain": [
       "<Figure size 432x288 with 1 Axes>"
      ]
     },
     "metadata": {
      "needs_background": "light"
     },
     "output_type": "display_data"
    }
   ],
   "source": [
    "# Instantiate, fit, and run model\n",
    "rfc = RandomForestClassifier(random_state=22)\n",
    "rfc.fit(X_train_scaled, y_train)\n",
    "y_hat_train = rfc.predict(X_train_scaled)\n",
    "y_hat_test = rfc.predict(X_test_scaled)\n",
    "print(f'Train: {classification_report(y_train, y_hat_train, zero_division=0)}')\n",
    "print(f'Test: {classification_report(y_test, y_hat_test, zero_division=0)}')\n",
    "\n",
    "# Plot confusion matrix and ROC AUC\n",
    "plot_confusion_matrix(rfc, X_test_scaled, y_test)\n",
    "plot_roc_curve(rfc, X_test_scaled, y_test);"
   ]
  },
  {
   "cell_type": "markdown",
   "metadata": {},
   "source": [
    "- This model may be overfitting. Perfect score on every evaluation metric .\n",
    "- Perfect AUC score"
   ]
  },
  {
   "cell_type": "markdown",
   "metadata": {},
   "source": [
    "# Conclusion and Reccomendations"
   ]
  },
  {
   "cell_type": "markdown",
   "metadata": {},
   "source": [
    "Logistic Regression Model turned out to be the best model. \n",
    "\n",
    "- In addition, we found that Platform and Shooter games outperfrmed other genres. \n",
    "\n",
    "- Games reelase between 2006 to 2008 contained the higehest user scores. \n",
    "- Nintendo has some of the hughest grossing games and highest selling platforms. Consider remastering a nintendo games. "
   ]
  },
  {
   "cell_type": "markdown",
   "metadata": {},
   "source": [
    "# NEXT STEPS / APPENDIX\n"
   ]
  },
  {
   "cell_type": "markdown",
   "metadata": {},
   "source": [
    "- As for Next Steps, I would like to narow down a specifc criteria for how often after a game's initial release, should it be remastered. So based of the year of intial release, as well as the cycle of time it has been in circulation and it's user score and reception. In addition as I looked at Global Sales, I would like to go into Localized data and determined the games worthy of remastering based on it's sales and score per region."
   ]
  },
  {
   "cell_type": "code",
   "execution_count": 75,
   "metadata": {},
   "outputs": [],
   "source": [
    "#Identifying sequl Games\n",
    "#df['remaster']=np.where((df['User_Score']>=78) & (df['Year_of_Release']<=2013),1,0)\n",
    "#df['remaster'].value_counts()\n",
    "# setting conditions for remaster criteria\n",
    "#conditions = [\n",
    "    #df['User_Score'] >= 7.8,\n",
    "    #df['Year_of_Release'] <2013,\n",
    "#]\n",
    "\n",
    "#values =['1','1']"
   ]
  },
  {
   "cell_type": "code",
   "execution_count": 76,
   "metadata": {},
   "outputs": [],
   "source": [
    "#Creating a Binary column for remaster. When considering what games to remaster. we want to include games that:\n",
    "#- Have great User Scores, So the cutoff will be the mode 7.8. User scores are more imoortant than critic scores in this case beacuse some older games may not have critic scores and we wnat games that users themseveles enjoyed.\n",
    "#- And we want to remaster older games that ahve not been out and available for the newest generation. SO the cutoff will be the year the Xbox One launched 2013"
   ]
  }
 ],
 "metadata": {
  "kernelspec": {
   "display_name": "Python (learn-env)",
   "language": "python",
   "name": "learn-env"
  },
  "language_info": {
   "codemirror_mode": {
    "name": "ipython",
    "version": 3
   },
   "file_extension": ".py",
   "mimetype": "text/x-python",
   "name": "python",
   "nbconvert_exporter": "python",
   "pygments_lexer": "ipython3",
   "version": "3.8.5"
  }
 },
 "nbformat": 4,
 "nbformat_minor": 4
}
